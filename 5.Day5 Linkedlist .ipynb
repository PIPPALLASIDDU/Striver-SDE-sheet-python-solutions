{
 "cells": [
  {
   "cell_type": "markdown",
   "id": "afb5ccee",
   "metadata": {},
   "source": [
    "# Reverse a Linked List\n",
    "Problem Statement: \n",
    "Given the head of a singly linked list, write a program to reverse the linked list, and return the head pointer to the reversed list."
   ]
  },
  {
   "cell_type": "code",
   "execution_count": null,
   "id": "cc32a9a2",
   "metadata": {},
   "outputs": [],
   "source": [
    "#iterative way\n",
    "def reverseList(head):\n",
    "    prev_n=None\n",
    "    current_n=head\n",
    "    next_n=head.next\n",
    "    while current_n:\n",
    "        next_n=current_n.next\n",
    "        current_n.next=prev_n\n",
    "        \n",
    "        prev_n=current_n\n",
    "        current_n=next_n\n",
    "    temp=prev_n\n",
    "    return temp\n"
   ]
  },
  {
   "cell_type": "code",
   "execution_count": null,
   "id": "dea926fe",
   "metadata": {},
   "outputs": [],
   "source": [
    "#recursive way\n",
    "def reverseList(head):\n",
    "    newhead=None\n",
    "    while head:\n",
    "        next_n=head.next\n",
    "        head.next=newhead\n",
    "        newhead=head\n",
    "        head=next_n\n",
    "    return newhead"
   ]
  },
  {
   "cell_type": "code",
   "execution_count": null,
   "id": "c3dd53b2",
   "metadata": {},
   "outputs": [],
   "source": [
    "#using recursion\n",
    "def reverseList(head):\n",
    "    if head is None or head.next is None:\n",
    "        return head\n",
    "    new_node=ReverseList(head.next)\n",
    "    head.next.next=head\n",
    "    head.next=None\n",
    "    return new_node"
   ]
  },
  {
   "cell_type": "markdown",
   "id": "a83dbb02",
   "metadata": {},
   "source": [
    "# Find middle element in a Linked List\n",
    "Problem Statement:\n",
    "Given the head of a singly linked list, return the middle node of the linked list. If there are two middle nodes, return the second middle node."
   ]
  },
  {
   "cell_type": "code",
   "execution_count": null,
   "id": "a6a5cfba",
   "metadata": {},
   "outputs": [],
   "source": [
    "#naive approach\n",
    "def middleNode(self, head: Optional[ListNode]) -> Optional[ListNode]:\n",
    "    n=0\n",
    "    temp=head\n",
    "    while temp:\n",
    "        n+=1\n",
    "        temp=temp.next\n",
    "    n=n//2+1\n",
    "    temp=head\n",
    "    i=1\n",
    "    while temp:\n",
    "        if i==n:\n",
    "            return temp\n",
    "        temp=temp.next\n",
    "        i+=1\n",
    "        "
   ]
  },
  {
   "cell_type": "code",
   "execution_count": null,
   "id": "7600a488",
   "metadata": {},
   "outputs": [],
   "source": [
    "#efficent tortoise - hare approach \n",
    "def middleNode(self, head: Optional[ListNode]) -> Optional[ListNode]:\n",
    "    slow=head\n",
    "    fast=head\n",
    "    while fast and fast.next:\n",
    "        slow=slow.next\n",
    "        fast=fast.next.next\n",
    "    return slow"
   ]
  },
  {
   "cell_type": "markdown",
   "id": "be6ef914",
   "metadata": {},
   "source": [
    "# Merge two sorted Linked Lists\n",
    "\n",
    "Problem Statement:\n",
    "Given two singly linked lists that are sorted in increasing order of node values, merge two sorted linked lists and return them as a sorted list. The list should be made by splicing together the nodes of the first two lists."
   ]
  },
  {
   "cell_type": "code",
   "execution_count": null,
   "id": "0bdb26ba",
   "metadata": {},
   "outputs": [],
   "source": [
    "#navie approach\n",
    "def mergeTwoLists(self, list1: Optional[ListNode], list2: Optional[ListNode]) -> Optional[ListNode]:\n",
    "        new_node=ListNode()\n",
    "        ans=new_node\n",
    "        if not list1:\n",
    "            return list2\n",
    "        elif not list2:\n",
    "            return list1\n",
    "        while list1 and list2:\n",
    "            \n",
    "            if list1.val<list2.val:\n",
    "                new_node.val=list1.val\n",
    "                list1=list1.next\n",
    "            else:\n",
    "                new_node.val=list2.val\n",
    "                list2=list2.next\n",
    "            temp=ListNode()\n",
    "            new_node.next=temp\n",
    "            new_node=new_node.next\n",
    "        while list1:\n",
    "            new_node.val=list1.val\n",
    "            list1=list1.next\n",
    "            temp=ListNode()\n",
    "            new_node.next=temp\n",
    "            prev=new_node\n",
    "            new_node=new_node.next\n",
    "        while list2:\n",
    "            new_node.val=list2.val\n",
    "            list2=list2.next\n",
    "            temp=ListNode()\n",
    "            new_node.next=temp\n",
    "            prev=new_node\n",
    "            new_node=new_node.next\n",
    "        prev.next=None\n",
    "        return ans"
   ]
  },
  {
   "cell_type": "code",
   "execution_count": null,
   "id": "3deab658",
   "metadata": {},
   "outputs": [],
   "source": [
    "def mergeTwoLists(self, list1: Optional[ListNode], list2: Optional[ListNode]) -> Optional[ListNode]:\n",
    "    if not list1:\n",
    "        return list2\n",
    "    elif not list2:\n",
    "        return list1\n",
    "    if list1.val>list2.val:\n",
    "        list1,list2=list2,list1\n",
    "    res=list1\n",
    "    \n",
    "    while list1 and list2:\n",
    "        while list1 and list1.val<=list2.val:\n",
    "            temp=list1\n",
    "            list1=list1.next\n",
    "        \n",
    "        temp.next=list2\n",
    "        list1,list2=list2,list1\n",
    "    return res\n",
    "        "
   ]
  },
  {
   "cell_type": "markdown",
   "id": "d8387594",
   "metadata": {},
   "source": [
    "# Remove N-th node from the end of a Linked List\n",
    "Problem Statement: \n",
    "Given a linked list, and a number N. Find the Nth node from the end of this linked list and delete it. Return the head of the new modified linked list."
   ]
  },
  {
   "cell_type": "code",
   "execution_count": null,
   "id": "5263eab3",
   "metadata": {},
   "outputs": [],
   "source": [
    "def removeNthFromEnd(self, head: Optional[ListNode], n: int) -> Optional[ListNode]:\n",
    "    nth=0\n",
    "    temp=head\n",
    "    while temp:\n",
    "        nth+=1\n",
    "        temp=temp.next\n",
    "    nth=nth-n+1\n",
    "    if nth==1:\n",
    "        temp=head.next\n",
    "        head=temp\n",
    "        return head\n",
    "    i=1\n",
    "    temp=head\n",
    "    while temp:\n",
    "        if i==nth:\n",
    "            break\n",
    "        prev=temp\n",
    "        temp=temp.next\n",
    "        i+=1\n",
    "    nxt=tmp.next\n",
    "    prev.next=nxt\n",
    "    return head"
   ]
  },
  {
   "cell_type": "code",
   "execution_count": null,
   "id": "f7948e8d",
   "metadata": {},
   "outputs": [],
   "source": [
    "def removeNthFromEnd(self, head: Optional[ListNode], n: int) -> Optional[ListNode]:\n",
    "    start=ListNode()\n",
    "    start.next=head\n",
    "    fast=start\n",
    "    slow=start\n",
    "    for i in range(n):\n",
    "        fast=fast.next\n",
    "    while fast.next is not None:\n",
    "        fast=fast.next\n",
    "        slow=slow.next\n",
    "    slow.next=slow.next.next\n",
    "    return start.next"
   ]
  },
  {
   "cell_type": "markdown",
   "id": "0e97d349",
   "metadata": {},
   "source": [
    "# Add two numbers represented as Linked Lists\n",
    "Problem Statement:\n",
    "Given the heads of two non-empty linked lists representing two non-negative integers. The digits are stored in reverse order, and each of their nodes contains a single digit. Add the two numbers and return the sum as a linked list."
   ]
  },
  {
   "cell_type": "code",
   "execution_count": null,
   "id": "e3fb0811",
   "metadata": {},
   "outputs": [],
   "source": [
    "#myway \n",
    "def addTwoNumbers(self, l1: Optional[ListNode], l2: Optional[ListNode]) -> Optional[ListNode]:\n",
    "        str1=\"\"\n",
    "        str2=\"\"\n",
    "        temp=l1\n",
    "        while temp:\n",
    "            str1=str(temp.val)+str1\n",
    "            temp=temp.next\n",
    "        temp=l2\n",
    "        while temp:\n",
    "            str2=str(temp.val)+str2\n",
    "            temp=temp.next\n",
    "        num=int(str1)+int(str2)\n",
    "        str3=str(num)[::-1]\n",
    "        new_node=ListNode()\n",
    "        ans=new_node\n",
    "        n=len(str3)\n",
    "        while n>0:\n",
    "            new_node.val=int(str3[-n])\n",
    "            temp=ListNode()\n",
    "            new_node.next=temp\n",
    "            prev=new_node\n",
    "            new_node=new_node.next\n",
    "            n-=1\n",
    "        prev.next=None\n",
    "        return ans"
   ]
  },
  {
   "cell_type": "code",
   "execution_count": null,
   "id": "338d39df",
   "metadata": {},
   "outputs": [],
   "source": [
    "#optimal way\n",
    "def addTwoNumbers(self, l1: Optional[ListNode], l2: Optional[ListNode]) -> Optional[ListNode]:\n",
    "    new_node=ListNode()\n",
    "    ans=new_node\n",
    "    carry=0\n",
    "    while l1 or l2:\n",
    "        if l1 and l2:\n",
    "            x=l1.val+l2.val\n",
    "            l1=l1.next\n",
    "            l2=l2.next\n",
    "        elif l1:\n",
    "            x=l1.val\n",
    "            l1=l1.next\n",
    "        elif l2:\n",
    "            x=l2.val\n",
    "            l2=l2.next\n",
    "        if x<=9:\n",
    "            new_node.val=x+carry\n",
    "            carry=0\n",
    "        else:\n",
    "            new_node.val=x%10+carry\n",
    "            carry=1\n",
    "        temp=ListNode()\n",
    "        new_node.next=temp\n",
    "        prev=new_node\n",
    "        new_node=new_node.next\n",
    "    prev.next=None\n",
    "    return ans"
   ]
  },
  {
   "cell_type": "markdown",
   "id": "51329b78",
   "metadata": {},
   "source": [
    "# Delete given node in a Linked List : O(1) approach\n",
    "Problem Statement:\n",
    "- Write a function to delete a node in a singly-linked list. You will not be given access to the head of the list instead, you will be given access to the node to be deleted directly. It is guaranteed that the node to be deleted is not a tail node in the list.\n"
   ]
  },
  {
   "cell_type": "code",
   "execution_count": null,
   "id": "90c65829",
   "metadata": {},
   "outputs": [],
   "source": [
    "#only way in T.C(1)\n",
    "def deleteNode(self, node):\n",
    "    node.val=node.next.val\n",
    "    node.next=node.next.next\n",
    "    return\n"
   ]
  }
 ],
 "metadata": {
  "kernelspec": {
   "display_name": "Python 3 (ipykernel)",
   "language": "python",
   "name": "python3"
  },
  "language_info": {
   "codemirror_mode": {
    "name": "ipython",
    "version": 3
   },
   "file_extension": ".py",
   "mimetype": "text/x-python",
   "name": "python",
   "nbconvert_exporter": "python",
   "pygments_lexer": "ipython3",
   "version": "3.9.12"
  }
 },
 "nbformat": 4,
 "nbformat_minor": 5
}
