{
 "cells": [
  {
   "cell_type": "markdown",
   "id": "90e0b5e8",
   "metadata": {},
   "source": [
    "# Problems on Recursion"
   ]
  },
  {
   "cell_type": "code",
   "execution_count": 1,
   "id": "4df0f327",
   "metadata": {},
   "outputs": [
    {
     "name": "stdout",
     "output_type": "stream",
     "text": [
      "5\n",
      "Siddu\n",
      "Siddu\n",
      "Siddu\n",
      "Siddu\n",
      "Siddu\n"
     ]
    }
   ],
   "source": [
    "#print name n times\n",
    "def f(i,n):\n",
    "    if i>n:\n",
    "        return\n",
    "    print(\"Siddu\")\n",
    "    f(i+1,n)\n",
    "n=int(input())\n",
    "f(1,n)"
   ]
  },
  {
   "cell_type": "code",
   "execution_count": 3,
   "id": "f0e3838a",
   "metadata": {},
   "outputs": [
    {
     "name": "stdout",
     "output_type": "stream",
     "text": [
      "5\n",
      "1 2 3 4 5 "
     ]
    }
   ],
   "source": [
    "#print 1 to n linearly\n",
    "def f(i,n):\n",
    "    if i>n:\n",
    "        return\n",
    "    print(i,end=\" \")\n",
    "    f(i+1,n)\n",
    "n=int(input())\n",
    "f(1,n)"
   ]
  },
  {
   "cell_type": "code",
   "execution_count": 4,
   "id": "16ed316d",
   "metadata": {},
   "outputs": [
    {
     "name": "stdout",
     "output_type": "stream",
     "text": [
      "5\n",
      "5 4 3 2 1 "
     ]
    }
   ],
   "source": [
    "#print n to 1 linearly\n",
    "def f(i):\n",
    "    if i<1:\n",
    "        return\n",
    "    print(i,end=\" \")\n",
    "    f(i-1)\n",
    "n=int(input())\n",
    "f(n)"
   ]
  },
  {
   "cell_type": "code",
   "execution_count": 1,
   "id": "1c289709",
   "metadata": {},
   "outputs": [
    {
     "name": "stdout",
     "output_type": "stream",
     "text": [
      "5\n",
      "1 2 3 4 5 "
     ]
    }
   ],
   "source": [
    "#print 1 to n using backtracking (using subtraction rather addition, call before printing)\n",
    "def f(i,n):\n",
    "    if i<1:\n",
    "        return\n",
    "    f(i-1,n)\n",
    "    print(i,end=\" \")\n",
    "    \n",
    "n=int(input())\n",
    "f(n,n)\n"
   ]
  },
  {
   "cell_type": "code",
   "execution_count": 1,
   "id": "88a43dc4",
   "metadata": {},
   "outputs": [
    {
     "name": "stdout",
     "output_type": "stream",
     "text": [
      "10\n",
      "10 9 8 7 6 5 4 3 2 1 "
     ]
    }
   ],
   "source": [
    "#print n to 1 using backtracking (using  addition rather subtraction call before printing)\n",
    "def f(i,n):\n",
    "    if i==n+1:\n",
    "        return\n",
    "    f(i+1,n)\n",
    "    print(i,end=\" \")\n",
    "    \n",
    "n=int(input())\n",
    "f(1,n)"
   ]
  },
  {
   "cell_type": "code",
   "execution_count": null,
   "id": "b436c81c",
   "metadata": {},
   "outputs": [],
   "source": [
    "#summation of first n numbers - parameterized way\n",
    "def f(i,sm):\n",
    "    if i<1:\n",
    "        print(sm)\n",
    "        return\n",
    "    f(i-1,sm+i)\n",
    "n=int(input())\n",
    "f(n,0)"
   ]
  },
  {
   "cell_type": "code",
   "execution_count": 2,
   "id": "833ebe29",
   "metadata": {},
   "outputs": [
    {
     "name": "stdout",
     "output_type": "stream",
     "text": [
      "5\n",
      "15\n"
     ]
    }
   ],
   "source": [
    "#summation of first n numbers - functional way\n",
    "def f(i):\n",
    "    if i==0:\n",
    "        return 0\n",
    "    return i+f(i-1)\n",
    "n=int(input())\n",
    "print(f(n))"
   ]
  },
  {
   "cell_type": "code",
   "execution_count": null,
   "id": "855a6588",
   "metadata": {},
   "outputs": [],
   "source": [
    "#Factorial of N -parameterized way\n",
    "def f(i,sm):\n",
    "    if i<1:\n",
    "        print(sm)\n",
    "        return\n",
    "    f(i-1,sm*i)\n",
    "n=int(input())\n",
    "f(n,1)"
   ]
  },
  {
   "cell_type": "code",
   "execution_count": null,
   "id": "abd6d410",
   "metadata": {},
   "outputs": [],
   "source": [
    "#Factorial of N - functional way\n",
    "def f(i):\n",
    "    if i<1:\n",
    "        return 1\n",
    "    return i*f(i-1)\n",
    "n=int(input())\n",
    "print(f(n))"
   ]
  },
  {
   "cell_type": "code",
   "execution_count": null,
   "id": "57605e61",
   "metadata": {},
   "outputs": [],
   "source": [
    "#reversing an array - 2 pointer approach\n",
    "def f(l,r):\n",
    "    if l>=r:\n",
    "        return\n",
    "    arr[l],arr[r]=arr[r],arr[l]\n",
    "    f(l+1,r-1)\n",
    "arr=[1,2,3,4,5]\n",
    "n=len(arr)\n",
    "f(0,n-1)\n",
    "print(arr)\n",
    "#reversing an array - single pointer approach\n",
    "def f(i):\n",
    "    if i>=n//2:\n",
    "        return\n",
    "    arr[i],arr[n-i-1]=arr[n-i-1],arr[i]\n",
    "    f(i+1)\n",
    "arr=[1,2,3,4,5]\n",
    "n=len(arr)\n",
    "f(0)\n",
    "print(arr)"
   ]
  },
  {
   "cell_type": "code",
   "execution_count": 3,
   "id": "93510617",
   "metadata": {},
   "outputs": [
    {
     "name": "stdout",
     "output_type": "stream",
     "text": [
      "False\n"
     ]
    }
   ],
   "source": [
    "#check weather a string is palindrome\n",
    "def f(i):\n",
    "    if i>=n//2:\n",
    "        return True\n",
    "    if s[i]!=s[n-i-1]:\n",
    "        return False\n",
    "    return f(i+1)\n",
    "s=\"abcab\"\n",
    "n=len(s)\n",
    "print(f(0))\n"
   ]
  },
  {
   "cell_type": "code",
   "execution_count": null,
   "id": "639104aa",
   "metadata": {},
   "outputs": [],
   "source": []
  }
 ],
 "metadata": {
  "kernelspec": {
   "display_name": "Python 3 (ipykernel)",
   "language": "python",
   "name": "python3"
  },
  "language_info": {
   "codemirror_mode": {
    "name": "ipython",
    "version": 3
   },
   "file_extension": ".py",
   "mimetype": "text/x-python",
   "name": "python",
   "nbconvert_exporter": "python",
   "pygments_lexer": "ipython3",
   "version": "3.9.13"
  }
 },
 "nbformat": 4,
 "nbformat_minor": 5
}
