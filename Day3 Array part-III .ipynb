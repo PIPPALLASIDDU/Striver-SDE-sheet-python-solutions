{
 "cells": [
  {
   "cell_type": "markdown",
   "id": "d1916e14",
   "metadata": {},
   "source": [
    "# Search in a sorted 2D matrix\n",
    "Problem Statement: Given an m*n 2D matrix and an integer, write a program to find if the given integer exists in the matrix.\n",
    "\n",
    "Given matrix has the following properties:\n",
    "\n",
    "Integers in each row are sorted from left to right.\n",
    "The first integer of each row is greater than the last integer of the previous row"
   ]
  },
  {
   "cell_type": "code",
   "execution_count": 1,
   "id": "64128cb2",
   "metadata": {},
   "outputs": [
    {
     "name": "stdout",
     "output_type": "stream",
     "text": [
      "True\n"
     ]
    }
   ],
   "source": [
    "#Solution 1: Naive approach\n",
    "def searchmatrix(matrix,target):\n",
    "    for i in range(len(matrix)):\n",
    "        for j in range(len(matrix[0])):\n",
    "            if matrix[i][j]==target:\n",
    "                return True\n",
    "    return False\n",
    "matrix = [[1,3,5,7],[10,11,16,20],[23,30,34,60]]\n",
    "target=3\n",
    "print(\"{}\".format(searchmatrix(matrix,target)))"
   ]
  },
  {
   "cell_type": "code",
   "execution_count": 11,
   "id": "6b03ebaf",
   "metadata": {},
   "outputs": [
    {
     "name": "stdout",
     "output_type": "stream",
     "text": [
      "True\n"
     ]
    }
   ],
   "source": [
    "#Solution 2: [Efficient] – Binary search - TC O(log n2) -n square beacause the length of matrix is m*n\n",
    "def searchmatrix(matrix,target):\n",
    "    m=len(matrix)\n",
    "    n=len(matrix[0])\n",
    "    st=0\n",
    "    end=m*n-1\n",
    "    while st<=end:\n",
    "        mid=(st+end)//2\n",
    "        if matrix[mid//m][mid%m]==target:\n",
    "            return True\n",
    "        elif matrix[mid//m][mid%m]>target:\n",
    "            end=mid-1\n",
    "        else:\n",
    "            st=mid+1\n",
    "    return False\n",
    "matrix = [[1,3,5,7],[10,11,16,20],[23,30,34,60]]\n",
    "target=3\n",
    "print(\"{}\".format(searchmatrix(matrix,target)))"
   ]
  },
  {
   "cell_type": "code",
   "execution_count": 14,
   "id": "82bc8421",
   "metadata": {},
   "outputs": [
    {
     "name": "stdout",
     "output_type": "stream",
     "text": [
      "True\n"
     ]
    }
   ],
   "source": [
    "#solution 3 my approach gives better TC O(n+logn) n-travese through just 1st column | log n - traveserse through 1 row only\n",
    "def searchmatrix(matrix,target):\n",
    "    n=len(matrix)\n",
    "    m=len(matrix[0])\n",
    "    for i in range(n):\n",
    "        if matrix[i][0]>target:\n",
    "            r=i-1\n",
    "            break       \n",
    "    else:\n",
    "        r=n-1\n",
    "    st=0\n",
    "    end=m-1        \n",
    "    while st<=end:\n",
    "        mid=(st+end)//2\n",
    "        if matrix[r][mid]==target:\n",
    "            return True\n",
    "        elif matrix[r][mid]>target:\n",
    "            end=mid-1\n",
    "        else:\n",
    "            st=mid+1\n",
    "    return False\n",
    "matrix = [[1,3,5,7],[10,11,16,20],[23,30,34,60]]\n",
    "target=3\n",
    "print(\"{}\".format(searchmatrix(matrix,target)))"
   ]
  },
  {
   "cell_type": "code",
   "execution_count": null,
   "id": "fb3ced51",
   "metadata": {},
   "outputs": [],
   "source": []
  }
 ],
 "metadata": {
  "kernelspec": {
   "display_name": "Python 3 (ipykernel)",
   "language": "python",
   "name": "python3"
  },
  "language_info": {
   "codemirror_mode": {
    "name": "ipython",
    "version": 3
   },
   "file_extension": ".py",
   "mimetype": "text/x-python",
   "name": "python",
   "nbconvert_exporter": "python",
   "pygments_lexer": "ipython3",
   "version": "3.9.12"
  }
 },
 "nbformat": 4,
 "nbformat_minor": 5
}
