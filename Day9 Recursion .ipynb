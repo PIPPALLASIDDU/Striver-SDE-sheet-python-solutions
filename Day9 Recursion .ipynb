{
 "cells": [
  {
   "cell_type": "markdown",
   "id": "45c4d69a",
   "metadata": {},
   "source": [
    "# Subset Sum : Sum of all Subsets\n",
    "Problem Statement: \n",
    "- Given an array print all the sum of the subset generated from it, in the increasing order."
   ]
  },
  {
   "cell_type": "code",
   "execution_count": 5,
   "id": "34b869ef",
   "metadata": {},
   "outputs": [
    {
     "name": "stdout",
     "output_type": "stream",
     "text": [
      "[5, 2, 3, 0]\n"
     ]
    }
   ],
   "source": [
    "def subsetSums(arr, N):\n",
    "\tdef func(ind,sm,arr,ans):\n",
    "\t    if ind==len(arr):\n",
    "\t        ans.append(sm)\n",
    "\t        return\n",
    "\t    func(ind+1,sm+arr[ind],arr,ans)\n",
    "\t    func(ind+1,sm,arr,ans)\n",
    "\t    \n",
    "\tans=[]\n",
    "\tfunc(0,0,arr,ans)\n",
    "\treturn ans\n",
    "arr=[2,3]\n",
    "ans=subsetSums(arr,2)\n",
    "print(ans)"
   ]
  },
  {
   "cell_type": "markdown",
   "id": "7c957e5f",
   "metadata": {},
   "source": [
    "# Subset – II | Print all the Unique Subsets\n",
    "Problem Statement: \n",
    "- Given an array of integers that may contain duplicates the task is to return all possible subsets. Return only unique subsets and they can be in any order."
   ]
  },
  {
   "cell_type": "code",
   "execution_count": 8,
   "id": "e2bbbc99",
   "metadata": {},
   "outputs": [
    {
     "name": "stdout",
     "output_type": "stream",
     "text": [
      "[[], [1], [1, 2], [1, 2, 2], [2], [2, 2]]\n"
     ]
    }
   ],
   "source": [
    "def func(ind,nums,ds,ans):\n",
    "    ans.append(ds.copy())              #use tuple to make the data structurw immutable so it doesnnot change further or deep copy it\n",
    "    for i in range(ind,len(nums)):\n",
    "        if i!=ind and nums[i]==nums[i-1]:\n",
    "            continue\n",
    "        ds.append(nums[i])\n",
    "        func(i+1,nums,ds,ans)\n",
    "        ds.pop()\n",
    "    return ans\n",
    "ans=[]\n",
    "ds=[]\n",
    "nums=[1,2,2]\n",
    "func(0,nums,ds,ans)\n",
    "print(ans)\n"
   ]
  },
  {
   "cell_type": "markdown",
   "id": "3975eef1",
   "metadata": {},
   "source": [
    "# Combination Sum – 1\n",
    "Problem Statement: \n",
    "\n",
    "- Given an array of distinct integers and a target, you have to return the list of all unique combinations where the chosen numbers sum to target. You may return the combinations in any order.\n",
    "\n",
    "The same number may be chosen from the given array an unlimited number of times. Two combinations are unique if the frequency of at least one of the chosen numbers is different."
   ]
  },
  {
   "cell_type": "code",
   "execution_count": null,
   "id": "ec5ef60f",
   "metadata": {},
   "outputs": [],
   "source": [
    "class Solution:\n",
    "    def combinationSum(self, candidates: List[int], target: int) -> List[List[int]]:\n",
    "        def func(ind,candidates,target,ans,ds=[]):\n",
    "            if ind==len(candidates):\n",
    "                if target==0:\n",
    "                    ans.append(tuple(ds))  #use tuple to make the data structurw immutable so it doesnnot change further or deep copy it\n",
    "                return\n",
    "            if candidates[ind]<=target:\n",
    "                ds.append(candidates[ind])\n",
    "                func(ind,candidates,target-candidates[ind],ans,ds)\n",
    "                ds.pop()\n",
    "            func(ind+1,candidates,target,ans,ds)\n",
    "            \n",
    "        ans=[]\n",
    "        func(0,candidates,target,ans)\n",
    "        return ans"
   ]
  },
  {
   "cell_type": "markdown",
   "id": "755e11ac",
   "metadata": {},
   "source": [
    "# Combination Sum II – Find all unique combinations\n",
    "In this article we will solve the most asked interview question “Combination Sum II – Find all unique combinations”.\n",
    "\n",
    "Problem Statement: \n",
    "- Given a collection of candidate numbers (candidates) and a target number (target), find all unique combinations in candidates where the candidate numbers sum to target. Each number in candidates may only be used once in the combination.\n",
    "\n",
    "Note: The solution set must not contain duplicate combinations."
   ]
  },
  {
   "cell_type": "code",
   "execution_count": null,
   "id": "5a173b10",
   "metadata": {},
   "outputs": [],
   "source": [
    "class Solution:\n",
    "    def combinationSum2(self, candidates: List[int], target: int) -> List[List[int]]:\n",
    "\n",
    "        def func(ind,candidates,target,ans,ds):\n",
    "            if target==0:\n",
    "                ans.append(tuple(ds))\n",
    "                return\n",
    "            for i in range(ind,len(candidates)):\n",
    "                if i>ind and candidates[i]==candidates[i-1]:\n",
    "                    continue\n",
    "                if candidates[i]>target:\n",
    "                    break\n",
    "                ds.append(candidates[i])\n",
    "                func(i+1,candidates,target-candidates[i],ans,ds)\n",
    "                ds.pop()\n",
    "        \n",
    "\n",
    "        ans=[]\n",
    "        candidates.sort()\n",
    "        func(0,candidates,target,ans,[])\n",
    "        return ans"
   ]
  },
  {
   "cell_type": "markdown",
   "id": "e260835f",
   "metadata": {},
   "source": [
    "# Palindrome Partitioning\n",
    "Problem Statement: \n",
    "- You are given a string s, partition it in such a way that every substring is a palindrome. Return all such palindromic partitions of s.\n",
    "\n",
    "Note: A palindrome string is a string that reads the same backward as forward."
   ]
  },
  {
   "cell_type": "code",
   "execution_count": null,
   "id": "527f1746",
   "metadata": {},
   "outputs": [],
   "source": [
    "class Solution:\n",
    "    def partition(self, s: str) -> List[List[str]]:\n",
    "        def par(ind,s,path,ans):\n",
    "            if ind==len(s):\n",
    "                ans.append(path.copy())\n",
    "                return\n",
    "            for i in range(ind,len(s)):\n",
    "                if s[ind:i+1]==s[ind:i+1][::-1]:                   #finding palindrome using tring slicing\n",
    "                    path.append(s[ind:i+1])\n",
    "                    par(i+1,s,path,ans)\n",
    "                    path.pop()\n",
    "\n",
    "        path,ans=[],[]\n",
    "        par(0,s,path,ans)\n",
    "        return ans"
   ]
  },
  {
   "cell_type": "code",
   "execution_count": null,
   "id": "d8559fc6",
   "metadata": {},
   "outputs": [],
   "source": [
    "#to generate all permutations of a string/arr\n",
    "def getPermutation(self, n: int, k: int) -> str:\n",
    "        def func(ind,nums,ans):\n",
    "            if ind==len(nums):\n",
    "                ans.append(tuple(nums))\n",
    "                return\n",
    "            for i in range(ind,len(nums)):\n",
    "                nums[i],nums[ind]=nums[ind],nums[i]\n",
    "                func(ind+1,nums,ans)\n",
    "                nums[i],nums[ind]=nums[ind],nums[i]\n",
    "            \n",
    "        nums=[i for i in range(1,n+1)]\n",
    "        ans=[]\n",
    "        func(0,nums,ans)\n",
    "        return ans"
   ]
  },
  {
   "cell_type": "markdown",
   "id": "0916db98",
   "metadata": {},
   "source": [
    "# Find K-th Permutation Sequence\n",
    "Problem Statement: \n",
    "- Given N and K, where N is the sequence of numbers from 1 to N([1,2,3….. N]) find the Kth permutation sequence."
   ]
  },
  {
   "cell_type": "code",
   "execution_count": null,
   "id": "f7214f3d",
   "metadata": {},
   "outputs": [],
   "source": [
    "#brute force approach - find all permutations + store in list + sort it find the k-1th index term\n",
    "\n",
    "from itertools import permutations\n",
    "class Solution:\n",
    "    def getPermutation(self, n: int, k: int) -> str:\n",
    "        arr=[i for i in range(1,n+1)]\n",
    "        per=list(permutations(arr))\n",
    "        per.sort()\n",
    "        ans=\"\"\n",
    "        for i in per[k-1]:\n",
    "            ans+=str(i)\n",
    "        return ans"
   ]
  },
  {
   "cell_type": "code",
   "execution_count": null,
   "id": "568ed9be",
   "metadata": {},
   "outputs": [],
   "source": [
    "#optimised approach\n",
    "\n",
    "class Solution:\n",
    "    def getPermutation(self, n: int, k: int) -> str:\n",
    "        fact=1\n",
    "        num=[]\n",
    "        for i in range(1,n):\n",
    "            num.append(i)\n",
    "            fact*=i\n",
    "        num.append(n)\n",
    "        res=\"\"\n",
    "        k=k-1\n",
    "        while True:\n",
    "            res+=str(num[int(k/fact)])\n",
    "            del num[int(k/fact)]\n",
    "            if len(num)==0:\n",
    "                break\n",
    "            k%=fact\n",
    "            fact/=len(num)\n",
    "        return res\n",
    "        "
   ]
  }
 ],
 "metadata": {
  "kernelspec": {
   "display_name": "Python 3 (ipykernel)",
   "language": "python",
   "name": "python3"
  },
  "language_info": {
   "codemirror_mode": {
    "name": "ipython",
    "version": 3
   },
   "file_extension": ".py",
   "mimetype": "text/x-python",
   "name": "python",
   "nbconvert_exporter": "python",
   "pygments_lexer": "ipython3",
   "version": "3.9.13"
  }
 },
 "nbformat": 4,
 "nbformat_minor": 5
}
