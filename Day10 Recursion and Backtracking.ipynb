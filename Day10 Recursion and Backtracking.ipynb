{
 "cells": [
  {
   "cell_type": "markdown",
   "id": "4e4a6316",
   "metadata": {},
   "source": [
    "# Print All Permutations of a String/Array\n",
    "Problem Statement: \n",
    "- Given an array arr of distinct integers, print all permutations of String/Array."
   ]
  },
  {
   "cell_type": "code",
   "execution_count": null,
   "id": "fc6a666a",
   "metadata": {},
   "outputs": [],
   "source": [
    "#finding all permutations using a frequency array\n",
    "class Solution:\n",
    "    def permute(self, nums: List[int]) -> List[List[int]]:\n",
    "        def func(nums,freq,ds,ans):\n",
    "            if len(ds)==len(nums):\n",
    "                ans.append(tuple(nums))\n",
    "                return\n",
    "            for i in range(0,len(nums)):\n",
    "                if !freq[i]:\n",
    "                    freq[i]=True\n",
    "                    ds.append(nums[i])\n",
    "                    func(nums,freq,ds,ans)\n",
    "                    ds.pop()\n",
    "                    freq[i]=False\n",
    "            \n",
    "        ans,ds=[],[]\n",
    "        freq=[None]*len(nums)\n",
    "        func(nums,freq,ds,ans)\n",
    "        return ans"
   ]
  },
  {
   "cell_type": "code",
   "execution_count": null,
   "id": "b3312380",
   "metadata": {},
   "outputs": [],
   "source": [
    "#optimised approach\n",
    "class Solution:\n",
    "    def permute(self, nums: List[int]) -> List[List[int]]:\n",
    "        def func(ind,nums,ans):\n",
    "            if ind==len(nums):\n",
    "                ans.append(tuple(nums))\n",
    "                return\n",
    "            for i in range(ind,len(nums)):\n",
    "                nums[i],nums[ind]=nums[ind],nums[i]\n",
    "                func(ind+1,nums,ans)\n",
    "                nums[i],nums[ind]=nums[ind],nums[i]\n",
    "            \n",
    "        ans=[]\n",
    "        func(0,nums,ans)\n",
    "        return ans"
   ]
  }
 ],
 "metadata": {
  "kernelspec": {
   "display_name": "Python 3 (ipykernel)",
   "language": "python",
   "name": "python3"
  },
  "language_info": {
   "codemirror_mode": {
    "name": "ipython",
    "version": 3
   },
   "file_extension": ".py",
   "mimetype": "text/x-python",
   "name": "python",
   "nbconvert_exporter": "python",
   "pygments_lexer": "ipython3",
   "version": "3.9.13"
  }
 },
 "nbformat": 4,
 "nbformat_minor": 5
}
