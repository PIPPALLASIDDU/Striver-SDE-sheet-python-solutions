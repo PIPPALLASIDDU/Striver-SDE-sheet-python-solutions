{
 "cells": [
  {
   "cell_type": "markdown",
   "id": "b34c790e",
   "metadata": {},
   "source": [
    "# Find intersection of Two Linked Lists\n",
    "Problem Statement: \n",
    "- Given the heads of two singly linked-lists headA and headB, return the node at which the two lists intersect. If the two linked lists have no intersection at all, return null."
   ]
  },
  {
   "cell_type": "code",
   "execution_count": null,
   "id": "95e1844f",
   "metadata": {},
   "outputs": [],
   "source": [
    "#brute force - every node has its own address ,\n",
    "#to find a common address will give us the intersection node\n",
    "def getIntersectionNode(self, headA: ListNode, headB: ListNode) -> Optional[ListNode]:\n",
    "    while headA!:\n",
    "        temp=headB\n",
    "        while temp:\n",
    "            if headA==headB:\n",
    "                return headA\n",
    "            temp=temp.next\n",
    "        headA=headA.next\n",
    "    return None"
   ]
  },
  {
   "cell_type": "code",
   "execution_count": null,
   "id": "e35500cc",
   "metadata": {},
   "outputs": [],
   "source": [
    "#through Hashing - as in python we dont have any predefiend hashset or map we use normal set and dictionary\n",
    "def getIntersectionNode(self, headA: ListNode, headB: ListNode) -> Optional[ListNode]:\n",
    "    st=set()\n",
    "    while headA:\n",
    "        st.add(headA)\n",
    "        headA=headA.next\n",
    "    while headB:\n",
    "        if headB in st:\n",
    "            return headB\n",
    "        headB=headB.next\n",
    "    return None"
   ]
  },
  {
   "cell_type": "code",
   "execution_count": null,
   "id": "1a36fc26",
   "metadata": {},
   "outputs": [],
   "source": [
    "#difference in length\n",
    "def getIntersectionNode(self, headA: ListNode, headB: ListNode) -> Optional[ListNode]:\n",
    "    temp=headA\n",
    "    cnt_a=0\n",
    "    while temp:\n",
    "        cnt_a+=1\n",
    "        temp=temp.next\n",
    "    temp=headB\n",
    "    cnt_b=0\n",
    "    while temp:\n",
    "        cnt_b+=1\n",
    "        temp=temp.next\n",
    "    dif=abs(cnt_a-cnt_b)\n",
    "    if cnt_a>cnt_b:\n",
    "        while dif>0:\n",
    "            headA=headA.next\n",
    "            dif-=1\n",
    "    else:\n",
    "        while dif>0:\n",
    "            headA=headA.next\n",
    "            dif-=1\n",
    "    while headA:\n",
    "        if headA==headB:\n",
    "            return headA\n",
    "        headA=headA.next\n",
    "        headA=headA.next\n",
    "    return headA\n"
   ]
  },
  {
   "cell_type": "code",
   "execution_count": null,
   "id": "2869200c",
   "metadata": {},
   "outputs": [],
   "source": [
    "#optimied approach - intutive approach\n",
    "def getIntersectionNode(self, headA: ListNode, headB: ListNode) -> Optional[ListNode]:\n",
    "    d1=headA\n",
    "    d2=headB\n",
    "    while d1!=d2:\n",
    "        if d1 is None:\n",
    "            d1=headA\n",
    "        else:\n",
    "            d1.next\n",
    "        if d2 is None:\n",
    "            d2=headB\n",
    "        else:\n",
    "            d2.next\n",
    "    return d1\n",
    "        "
   ]
  },
  {
   "cell_type": "markdown",
   "id": "734ed8fc",
   "metadata": {},
   "source": [
    "# Detect a Cycle in a Linked List\n",
    "Problem Statement: \n",
    "- Given head, the head of a linked list, determine if the linked list has a cycle in it. There is a cycle in a linked list if there is some node in the list that can be reached again by continuously following the next pointer."
   ]
  },
  {
   "cell_type": "code",
   "execution_count": null,
   "id": "1cde3eaa",
   "metadata": {},
   "outputs": [],
   "source": [
    "#using Hashing\n",
    "def hasCycle(self, head: Optional[ListNode]) -> bool:\n",
    "    st=set()\n",
    "    while head:\n",
    "        if head in st:\n",
    "            return True\n",
    "        else:\n",
    "            st.add(head)\n",
    "        head=head.next\n",
    "    return False\n"
   ]
  },
  {
   "cell_type": "code",
   "execution_count": null,
   "id": "3005cda4",
   "metadata": {},
   "outputs": [],
   "source": [
    "#using slow and fast pointers -optimiesd\n",
    "def hasCycle(self, head: Optional[ListNode]) -> bool:\n",
    "    slow=head\n",
    "    fast=head\n",
    "    while fast.next and fast.next.next:\n",
    "        fast=fast.next.next\n",
    "        slow=slow.next\n",
    "        if fast==slow:\n",
    "            return True\n",
    "    return False\n"
   ]
  },
  {
   "cell_type": "markdown",
   "id": "df9480c3",
   "metadata": {},
   "source": [
    "# Reverse Linked List in groups of Size K\n",
    "Problem Statement: \n",
    "- Given the head of a linked list, reverse the nodes of the list k at a time, and return the modified list. k is a positive integer and is less than or equal to the length of the linked list. If the number of nodes is not a multiple of k then left-out nodes, in the end, should remain as it is."
   ]
  },
  {
   "cell_type": "code",
   "execution_count": null,
   "id": "412581af",
   "metadata": {},
   "outputs": [],
   "source": [
    "#3 pointer approach\n",
    "def reverseKGroup(self, head: Optional[ListNode], k: int) -> Optional[ListNode]:\n",
    "    if head is None or k==1:\n",
    "        return head\n",
    "    temp=head\n",
    "    cnt=0\n",
    "    while temp:\n",
    "        cnt=1\n",
    "        temp=temp.next\n",
    "    \n",
    "    dummyhead=ListNode()\n",
    "    dummyhead.next=head\n",
    "    \n",
    "    pre=dummyhead\n",
    "    \n",
    "    while cnt>=k:\n",
    "        cur=pre.next\n",
    "        nex=cur.next\n",
    "        for i in range(1,k):\n",
    "            cur.next=nex.next\n",
    "            nex.next=pre.next\n",
    "            pre.next=nex\n",
    "            nex=cur.next\n",
    "            \n",
    "        pre=cur\n",
    "        cnt-=k\n",
    "    return dummyhead.next"
   ]
  },
  {
   "cell_type": "markdown",
   "id": "8e2c5922",
   "metadata": {},
   "source": [
    "# Check if given Linked List is Plaindrome\n",
    "\n",
    "Problem Statement: \n",
    "- Given the head of a singly linked list, return true if it is a palindrome."
   ]
  },
  {
   "cell_type": "code",
   "execution_count": null,
   "id": "a2a26e17",
   "metadata": {},
   "outputs": [],
   "source": [
    "#using extra data structure \n",
    "def isPalindrome(self, head: Optional[ListNode]) -> bool:\n",
    "        s=\"\"\n",
    "        while head:\n",
    "            s+=str(head.val)\n",
    "            head=head.next\n",
    "        if s==s[::-1]:\n",
    "            return True\n",
    "        else:\n",
    "            return False\n"
   ]
  },
  {
   "cell_type": "code",
   "execution_count": null,
   "id": "240ae988",
   "metadata": {},
   "outputs": [],
   "source": [
    "#Optimized Solutions \n",
    "def isPalindrome(self, head: Optional[ListNode]) -> bool:\n",
    "    if head is None or head.next is None:\n",
    "        return True\n",
    "    slow=head\n",
    "    fast=head\n",
    "    while fast.next and fast.next.next:\n",
    "        slow=slow.next\n",
    "        fast=fast.next.next\n",
    "    temp=slow.next\n",
    "    dummy=ListNode()\n",
    "    pre=dummy\n",
    "    nxe=dummy\n",
    "    while temp:\n",
    "        nxt=temp.next\n",
    "        temp.next=pre\n",
    "        pre=temp\n",
    "        temp=nxt\n",
    "    slow.next=pre\n",
    "    slow=slow.next\n",
    "    dummy=head\n",
    "    \n",
    "    while slow:\n",
    "        if dummy.val!=slow.val:\n",
    "            return False\n",
    "        dummy=dummy.next\n",
    "        slow=slow.next\n",
    "    return True\n",
    "\n",
    "    "
   ]
  },
  {
   "cell_type": "markdown",
   "id": "51d8a824",
   "metadata": {},
   "source": [
    "# Starting point of loop in a Linked List\n",
    "Problem Statement: \n",
    "- Given the head of a linked list, return the node where the cycle begins. If there is no cycle, return null."
   ]
  },
  {
   "cell_type": "code",
   "execution_count": null,
   "id": "db4129a1",
   "metadata": {},
   "outputs": [],
   "source": [
    "#using extra data structure\n",
    "def detectCycle(self, head: Optional[ListNode]) -> Optional[ListNode]:\n",
    "    st=set()\n",
    "    while head:\n",
    "        if head in st:\n",
    "            return head\n",
    "        else:\n",
    "            st.add(head)\n",
    "        head=head.next\n",
    "    return False"
   ]
  },
  {
   "cell_type": "code",
   "execution_count": null,
   "id": "44bf4b97",
   "metadata": {},
   "outputs": [],
   "source": [
    "#slow and fast pointer approach \n",
    "def detectCycle(self, head: Optional[ListNode]) -> Optional[ListNode]:\n",
    "    if head is None or head.next is None:\n",
    "        return None\n",
    "    slow=head\n",
    "    fast=head\n",
    "    while fast.next and fast.next.next:\n",
    "        fast=fast.next.next\n",
    "        slow=slow.next\n",
    "        if fast==slow:\n",
    "            break\n",
    "    else:\n",
    "        return None\n",
    "    entry=head\n",
    "    while slow!=entry:\n",
    "        slow=slow.next\n",
    "        entry=entry.next\n",
    "    return slow"
   ]
  },
  {
   "cell_type": "markdown",
   "id": "cc55ad41",
   "metadata": {},
   "source": [
    "# Flattening a Linked List\n",
    "Flattening a Linked List\n",
    "\n",
    "Problem Statement: Given a Linked List of size N, where every node represents a sub-linked-list and contains two pointers:\n",
    "\n",
    "(i) a next pointer to the next node,\n",
    "\n",
    "(ii) a bottom pointer to a linked list where this node is head.\n",
    "\n",
    "Each of the sub-linked-list is in sorted order.\n",
    "\n",
    "Flatten the Link List such that all the nodes appear in a single level while maintaining the sorted order. \n",
    "\n",
    "Note: The flattened list will be printed using the bottom pointer instead of the next pointer."
   ]
  },
  {
   "cell_type": "code",
   "execution_count": null,
   "id": "82f44871",
   "metadata": {},
   "outputs": [],
   "source": []
  }
 ],
 "metadata": {
  "kernelspec": {
   "display_name": "Python 3 (ipykernel)",
   "language": "python",
   "name": "python3"
  },
  "language_info": {
   "codemirror_mode": {
    "name": "ipython",
    "version": 3
   },
   "file_extension": ".py",
   "mimetype": "text/x-python",
   "name": "python",
   "nbconvert_exporter": "python",
   "pygments_lexer": "ipython3",
   "version": "3.9.12"
  }
 },
 "nbformat": 4,
 "nbformat_minor": 5
}
