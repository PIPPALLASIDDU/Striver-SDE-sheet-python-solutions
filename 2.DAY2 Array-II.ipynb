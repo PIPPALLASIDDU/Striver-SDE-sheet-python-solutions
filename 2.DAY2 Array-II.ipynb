{
 "cells": [
  {
   "cell_type": "markdown",
   "id": "caaf1c99",
   "metadata": {},
   "source": [
    "# Rotate Image by 90 degree\n",
    "Problem Statement: \n",
    "Given a matrix, your task is to rotate the matrix 90 degrees clockwise."
   ]
  },
  {
   "cell_type": "code",
   "execution_count": 6,
   "id": "1cfdf6df",
   "metadata": {},
   "outputs": [
    {
     "name": "stdout",
     "output_type": "stream",
     "text": [
      "1 2 3 \n",
      "4 5 6 \n",
      "7 8 9 \n",
      "clockwise\n",
      "7 4 1 \n",
      "8 5 2 \n",
      "9 6 3 \n",
      "anticlockwise\n",
      "3 6 9 \n",
      "2 5 8 \n",
      "1 4 7 \n"
     ]
    }
   ],
   "source": [
    "#bruteforce apprach\n",
    "def clockwise(arr,n):\n",
    "    matrix=[[-1]*n for i in range(n)]\n",
    "    for i in range(n):\n",
    "        for j in range(n):\n",
    "            matrix[j][n-1-i]=arr[i][j]\n",
    "    return matrix\n",
    "def anticlockwise(arr,n):\n",
    "    matrix=[[-1]*n for i in range(n)]\n",
    "    for i in range(n):\n",
    "        for j in range(n):\n",
    "            matrix[n-1-j][i]=arr[i][j]\n",
    "    return matrix\n",
    "\n",
    "arr=[[1,2,3],[4,5,6],[7,8,9]]\n",
    "for i in range(n):\n",
    "    for j in range(n):\n",
    "        print(arr[i][j],end=\" \")\n",
    "    print()\n",
    "n=len(arr)\n",
    "print(\"clockwise\")\n",
    "x=clockwise(arr,n)\n",
    "for i in range(n):\n",
    "    for j in range(n):\n",
    "        print(x[i][j],end=\" \")\n",
    "    print()\n",
    "print(\"anticlockwise\")\n",
    "y=anticlockwise(arr,n)\n",
    "for i in range(n):\n",
    "    for j in range(n):\n",
    "        print(y[i][j],end=\" \")\n",
    "    print()\n"
   ]
  },
  {
   "cell_type": "code",
   "execution_count": 11,
   "id": "8b8c5216",
   "metadata": {},
   "outputs": [
    {
     "name": "stdout",
     "output_type": "stream",
     "text": [
      "1 2 3 \n",
      "4 5 6 \n",
      "7 8 9 \n",
      "rotate clockwise\n",
      "7 4 1 \n",
      "8 5 2 \n",
      "9 6 3 \n",
      "rotate anticlockwise\n",
      "1 2 3 \n",
      "4 5 6 \n",
      "7 8 9 \n"
     ]
    }
   ],
   "source": [
    "def clockwise(arr,n):\n",
    "    for i in range(n):\n",
    "        for j in range(i+1,n):\n",
    "            tmp=arr[i][j]\n",
    "            arr[i][j]=arr[j][i]\n",
    "            arr[j][i]=tmp\n",
    "    for i in range(n):\n",
    "        for j in range(n//2):\n",
    "            temp=arr[i][j]\n",
    "            arr[i][j]=arr[i][n-1-j]\n",
    "            arr[i][n-1-j]=temp\n",
    "            \n",
    "def anticlockwise(arr,n):\n",
    "    for i in range(n):\n",
    "        for j in range(i+1,n):\n",
    "            tmp=arr[i][j]\n",
    "            arr[i][j]=arr[j][i]\n",
    "            arr[j][i]=tmp\n",
    "    for i in range(n//2):\n",
    "        for j in range(n):\n",
    "            temp=arr[i][j]\n",
    "            arr[i][j]=arr[n-1-i][j]\n",
    "            arr[n-1-i][j]=temp\n",
    "\n",
    "arr=[[1,2,3],[4,5,6],[7,8,9]]\n",
    "for i in range(n):\n",
    "    for j in range(n):\n",
    "        print(arr[i][j],end=\" \")\n",
    "    print()\n",
    "n=len(arr)\n",
    "print(\"rotate clockwise\")\n",
    "clockwise(arr,n)\n",
    "for i in range(n):\n",
    "    for j in range(n):\n",
    "        print(arr[i][j],end=\" \")\n",
    "    print()\n",
    "print(\"rotate anticlockwise of the clockwise - so we get the intial matrix\")\n",
    "anticlockwise(arr,n)\n",
    "for i in range(n):\n",
    "    for j in range(n):\n",
    "        print(arr[i][j],end=\" \")\n",
    "    print()"
   ]
  },
  {
   "cell_type": "markdown",
   "id": "65e00ff2",
   "metadata": {},
   "source": [
    "# Merge Overlapping Sub-intervals\n",
    "Problem Statement: \n",
    "Given an array of intervals, merge all the overlapping intervals and return an array of non-overlapping intervals."
   ]
  },
  {
   "cell_type": "code",
   "execution_count": 13,
   "id": "a1349348",
   "metadata": {},
   "outputs": [
    {
     "name": "stdout",
     "output_type": "stream",
     "text": [
      "[[1, 3], [2, 4], [2, 6], [5, 4], [8, 9], [8, 10], [9, 11], [15, 18], [16, 17]]\n",
      "after merging  [[1, 6], [8, 11], [15, 18]]\n"
     ]
    }
   ],
   "source": [
    "#bruteforce approach\n",
    "def merger(arr,ans):\n",
    "    arr.sort()\n",
    "    n=len(arr)\n",
    "    for i in range(n):\n",
    "        start=arr[i][0]\n",
    "        end=arr[i][1]\n",
    "        if ans!=[]:\n",
    "            if start<=ans[-1][1]:\n",
    "                continue\n",
    "        for j in range(i+1,n):\n",
    "            if arr[j][0]<=end:\n",
    "                end=max(end,arr[j][1])\n",
    "        end=max(end,arr[i][1])\n",
    "        ans.append([start,end])\n",
    "        \n",
    "    pass\n",
    "arr=[[1,3],[2,4],[2,6],[8,9],[8,10],[9,11],[15,18],[16,17],[5,4]]\n",
    "ans=[]\n",
    "merger(arr,ans)\n",
    "print(arr)\n",
    "print(\"after merging \",ans)"
   ]
  },
  {
   "cell_type": "code",
   "execution_count": 15,
   "id": "ccedb8c3",
   "metadata": {},
   "outputs": [
    {
     "name": "stdout",
     "output_type": "stream",
     "text": [
      "[[1, 3], [2, 4], [2, 6], [5, 4], [8, 9], [8, 10], [9, 11], [15, 18], [16, 17]]\n",
      "after merging  [[1, 6], [8, 11], [15, 18]]\n"
     ]
    }
   ],
   "source": [
    "#optimal approach\n",
    "def merger(arr,ans):\n",
    "    arr.sort()\n",
    "    n=len(arr)\n",
    "    x=arr[0]\n",
    "    for i in range(n):\n",
    "        if x[1]>=arr[i][0]:\n",
    "            if x[1]<arr[i][1]:\n",
    "                x=[x[0],arr[i][1]]\n",
    "        else:\n",
    "            ans.append(x)\n",
    "            x=arr[i]\n",
    "    ans.append(x)   \n",
    "        \n",
    "arr=[[1,3],[2,4],[2,6],[8,9],[8,10],[9,11],[15,18],[16,17],[5,4]]\n",
    "ans=[]\n",
    "merger(arr,ans)\n",
    "print(arr)\n",
    "print(\"after merging \",ans)"
   ]
  },
  {
   "cell_type": "markdown",
   "id": "7580428d",
   "metadata": {},
   "source": [
    "# Merge two Sorted Arrays Without Extra Space\n",
    "Problem statement: \n",
    "Given two sorted arrays arr1[] and arr2[] of sizes n and m in non-decreasing order. Merge them in sorted order. Modify arr1 so that it contains the first N elements and modify arr2 so that it contains the last M elements."
   ]
  },
  {
   "cell_type": "code",
   "execution_count": 16,
   "id": "dc27bd39",
   "metadata": {},
   "outputs": [
    {
     "name": "stdout",
     "output_type": "stream",
     "text": [
      "before merge  [1, 4, 7, 8, 10] [2, 3, 9]\n",
      "After merge  [1, 2, 3, 4, 7] [8, 9, 10]\n"
     ]
    }
   ],
   "source": [
    "#brute-force apprach using help of another array\n",
    "def merge(arr1,arr2):\n",
    "    temp=sorted(arr1+arr2)\n",
    "    k=0\n",
    "    for i in range(len(arr1)):\n",
    "        arr1[i]=temp[k]\n",
    "        k+=1\n",
    "    for i in range(len(arr2)):\n",
    "        arr2[i]=temp[k]\n",
    "        k+=1\n",
    "    \n",
    "\n",
    "arr1=[1,4,7,8,10]\n",
    "arr2=[2,3,9]\n",
    "print(\"before merge \",arr1,arr2)\n",
    "merge(arr1,arr2)\n",
    "print(\"After merge \",arr1,arr2)"
   ]
  },
  {
   "cell_type": "code",
   "execution_count": 17,
   "id": "f6917817",
   "metadata": {},
   "outputs": [
    {
     "name": "stdout",
     "output_type": "stream",
     "text": [
      "before merge  [1, 4, 7, 8, 10] [2, 3, 9]\n",
      "After merge  [1, 2, 3, 4, 7] [8, 9, 10]\n"
     ]
    }
   ],
   "source": [
    "#optimal approach without using space\n",
    "def merge(arr1,arr2):\n",
    "    for i in range(len(arr1)):\n",
    "        if arr1[i]>=arr2[0]:\n",
    "            arr1[i],arr2[0]=arr2[0],arr1[i]\n",
    "            arr2.sort()\n",
    "        \n",
    "    \n",
    "\n",
    "arr1=[1,4,7,8,10]\n",
    "arr2=[2,3,9]\n",
    "print(\"before merge \",arr1,arr2)\n",
    "merge(arr1,arr2)\n",
    "print(\"After merge \",arr1,arr2)"
   ]
  },
  {
   "cell_type": "markdown",
   "id": "8f919857",
   "metadata": {},
   "source": [
    "# Find the duplicate in an array of N+1 integers\n",
    "Problem Statement: \n",
    "Given an array of N + 1 size, where each element is between 1 and N. Assuming there is only one duplicate number, your task is to find the duplicate number. "
   ]
  },
  {
   "cell_type": "code",
   "execution_count": 18,
   "id": "db063a4d",
   "metadata": {},
   "outputs": [
    {
     "name": "stdout",
     "output_type": "stream",
     "text": [
      "2\n"
     ]
    }
   ],
   "source": [
    "#using sorting approach\n",
    "def findduplicate(nums):\n",
    "    nums.sort()\n",
    "    for i in range(len(nums)):\n",
    "        if nums[i]==nums[i+1]:\n",
    "            return nums[i]\n",
    "arr=[1,3,4,2,2]\n",
    "x=findduplicate(arr)\n",
    "print(x)"
   ]
  },
  {
   "cell_type": "code",
   "execution_count": 19,
   "id": "3b80e1dd",
   "metadata": {},
   "outputs": [
    {
     "name": "stdout",
     "output_type": "stream",
     "text": [
      "2\n"
     ]
    }
   ],
   "source": [
    "#using frequency array approach\n",
    "def findduplicate(nums):\n",
    "    x=[0]*(len(nums))\n",
    "    for i in range(len(nums)):\n",
    "        if x[nums[i]]==0:\n",
    "            x[nums[i]]=1\n",
    "        else:\n",
    "            return nums[i]\n",
    "arr=[1,3,4,2,2]\n",
    "x=findduplicate(arr)\n",
    "print(x)"
   ]
  },
  {
   "cell_type": "code",
   "execution_count": 24,
   "id": "f606e12d",
   "metadata": {},
   "outputs": [
    {
     "name": "stdout",
     "output_type": "stream",
     "text": [
      "2\n"
     ]
    }
   ],
   "source": [
    "#using linked list cycle approach\n",
    "def findduplicate(nums):\n",
    "    slow = nums[nums[0]]\n",
    "    fast=nums[nums[nums[0]]]\n",
    "    while slow!=fast:\n",
    "        slow = nums[slow]\n",
    "        fast=nums[nums[fast]]\n",
    "    fast=nums[0]\n",
    "    while slow!=fast:\n",
    "        slow = nums[slow]\n",
    "        fast=nums[fast]\n",
    "        \n",
    "    return slow\n",
    "arr=[1,3,4,2,2]\n",
    "x=findduplicate(arr)\n",
    "print(x)"
   ]
  },
  {
   "cell_type": "markdown",
   "id": "5174ad7e",
   "metadata": {},
   "source": [
    "# Find the repeating and missing numbers\n",
    "Problem Statement: \n",
    "You are given a read-only array of N integers with values also in the range [1, N] both inclusive. Each integer appears exactly once except A which appears twice and B which is missing. The task is to find the repeating and missing numbers A and B where A repeats twice and B is missing."
   ]
  },
  {
   "cell_type": "code",
   "execution_count": 29,
   "id": "9be89a3f",
   "metadata": {},
   "outputs": [
    {
     "name": "stdout",
     "output_type": "stream",
     "text": [
      "missng element 5,duplicate elemnet 2\n"
     ]
    }
   ],
   "source": [
    "#USING SORTING COUNT\n",
    "def findduplicate_missing(nums):\n",
    "    x=[0]*(len(nums)+1)\n",
    "    for i in range(len(nums)):\n",
    "        x[nums[i]]+=1\n",
    "    for i in range(1,len(nums)+1):\n",
    "        if x[i]==2:\n",
    "            d=i\n",
    "        if x[i]==0:\n",
    "            m=i\n",
    "    return [m,d]\n",
    "arr=[1,3,4,2,2]\n",
    "x=findduplicate_missing(arr)\n",
    "print(\"missng element {},duplicate elemnet {}\".format(x[0],x[1]))"
   ]
  },
  {
   "cell_type": "code",
   "execution_count": 41,
   "id": "11ab043e",
   "metadata": {},
   "outputs": [
    {
     "name": "stdout",
     "output_type": "stream",
     "text": [
      "missng element 6,duplicate elemnet 2\n"
     ]
    }
   ],
   "source": [
    "#Using Maths Intuition + Approach: \n",
    "def findduplicate_missing(nums):\n",
    "    n=len(nums)\n",
    "    s=(n*(n+1))/2\n",
    "    p=(n*(n+1)*(2*n+1))/6\n",
    "    for i in range(n):\n",
    "        s-=arr[i]\n",
    "        p-=(arr[i]*arr[i])\n",
    "    m=int((s+p/s)/2)\n",
    "    d=m-int(s)\n",
    "    return [m,d]\n",
    "arr=[1,3,4,2,2,5]\n",
    "x=findduplicate_missing(arr)\n",
    "print(\"missng element {},duplicate elemnet {}\".format(x[0],x[1]))"
   ]
  },
  {
   "cell_type": "code",
   "execution_count": 44,
   "id": "c52df1d0",
   "metadata": {},
   "outputs": [
    {
     "name": "stdout",
     "output_type": "stream",
     "text": [
      "missng element 5,duplicate elemnet 2\n"
     ]
    }
   ],
   "source": [
    "#Using XOR Intuition + Approach: \n",
    "def findduplicate_missing(nums):\n",
    "    n=len(nums)\n",
    "    xor1=nums[0]\n",
    "    x,y=0,0\n",
    "    for i in range(1,n):\n",
    "        xor1^=nums[i]\n",
    "    for i in range(n+1):\n",
    "        xor1^=i\n",
    "    set_bit_no=xor1 & ~(xor1-1)\n",
    "    for i in range(n):\n",
    "        if (arr[i] & set_bit_no)!=0:\n",
    "            x=x^arr[i]\n",
    "        else:\n",
    "            y=y^arr[i]\n",
    "    for i in range(1,n+1):\n",
    "        if (i & set_bit_no)!=0:\n",
    "            x=x^i\n",
    "        else:\n",
    "            y=y^i\n",
    "    if arr.count(x)>1:\n",
    "        return (y,x)\n",
    "    else:\n",
    "        return (x,y)\n",
    "arr=[1,3,4,2,2]\n",
    "x=findduplicate_missing(arr)\n",
    "print(\"missng element {},duplicate elemnet {}\".format(x[0],x[1]))"
   ]
  },
  {
   "cell_type": "markdown",
   "id": "4e5ff788",
   "metadata": {},
   "source": [
    "# Count inversions in an array\n",
    "Problem Statement: Given an array of N integers, count the inversion of the array (using merge-sort).\n",
    "\n",
    "What is an inversion of an array? Definition: for all i & j < size of array, if i < j then you have to find pair (A[i],A[j]) such that A[j] < A[i]."
   ]
  },
  {
   "cell_type": "code",
   "execution_count": 48,
   "id": "d124a40e",
   "metadata": {},
   "outputs": [
    {
     "name": "stdout",
     "output_type": "stream",
     "text": [
      "number of inversions are\n",
      "10\n"
     ]
    }
   ],
   "source": [
    "#brute force method\n",
    "def inversions(arr):\n",
    "    cnt=0\n",
    "    for i in range(n-1):\n",
    "        for j in range(i+1,n):\n",
    "            if arr[i]>arr[j]:\n",
    "                cnt+=1\n",
    "    return cnt\n",
    "arr=[5,4,3,2,1]\n",
    "n=len(arr)\n",
    "ans=inversions(arr)\n",
    "print(\"number of inversions are\")\n",
    "print(ans)"
   ]
  },
  {
   "cell_type": "code",
   "execution_count": 46,
   "id": "7bea5434",
   "metadata": {},
   "outputs": [
    {
     "name": "stdout",
     "output_type": "stream",
     "text": [
      "number of inversions are\n",
      "10\n"
     ]
    }
   ],
   "source": [
    "#through merge sort find inversions\n",
    "def mergesort(arr,temp,l,r):\n",
    "    inv_cnt=0\n",
    "    if l<r:\n",
    "        mid=(l+r)//2\n",
    "        inv_cnt+=mergesort(arr,temp,l,mid)\n",
    "        inv_cnt+=mergesort(arr,temp,mid+1,r)\n",
    "        inv_cnt+=merge(arr,temp,l,mid+1,r)\n",
    "    return inv_cnt \n",
    "def merge(arr,temp,l,mid,r):\n",
    "    i,j,f=l,mid,l\n",
    "    inv_cnt=0\n",
    "    while (i<=mid-1 and j<=r):\n",
    "        if arr[i]<=arr[j]:\n",
    "            temp[f]=arr[i]\n",
    "            i+=1\n",
    "            f+=1\n",
    "        else:\n",
    "            temp[f]=arr[j]\n",
    "            inv_cnt+=(mid-i)\n",
    "            j+=1\n",
    "            f+=1\n",
    "    while i<=mid-1:\n",
    "        temp[f]=temp[i]\n",
    "        f+=1\n",
    "        i+=1\n",
    "    while j<=r:\n",
    "        temp[f]=arr[j]\n",
    "        f+=1\n",
    "        j+=1\n",
    "    for i in range(l,r+1):\n",
    "        arr[i]=temp[i]\n",
    "    return inv_cnt\n",
    "    \n",
    "arr=[5,4,3,2,1]\n",
    "n=len(arr)\n",
    "temp=[0]*n\n",
    "ans=mergesort(arr,temp,0,n-1)\n",
    "print(\"number of inversions are\")\n",
    "print(ans)"
   ]
  },
  {
   "cell_type": "code",
   "execution_count": 1,
   "id": "2c9c04ee",
   "metadata": {},
   "outputs": [
    {
     "name": "stdout",
     "output_type": "stream",
     "text": [
      "number of inversions are\n",
      "10\n"
     ]
    }
   ],
   "source": [
    "#clean code in python\n",
    "def merge(left,right):\n",
    "    temp=[]\n",
    "    i,j=0,0\n",
    "    global cnt\n",
    "    while i<len(left) and j<len(right):\n",
    "        if left[i]<right[j]:\n",
    "            temp.append(left[i])\n",
    "            i+=1\n",
    "        else:\n",
    "            temp.append(right[j])\n",
    "            cnt+=(len(left)-i)\n",
    "            j+=1\n",
    "    temp+=left[i:]\n",
    "    temp+=right[j:]\n",
    "    return temp\n",
    "def mergesort(arr):\n",
    "    if len(arr)<=1:\n",
    "        return arr\n",
    "    mid=len(arr)//2\n",
    "    left=mergesort(arr[:mid])\n",
    "    right=mergesort(arr[mid:])\n",
    "    return merge(left,right)\n",
    "\n",
    "arr=[5,4,3,2,1]\n",
    "cnt=0\n",
    "mergesort(arr)\n",
    "print(\"number of inversions are\")\n",
    "print(cnt)"
   ]
  },
  {
   "cell_type": "code",
   "execution_count": null,
   "id": "6779e08b",
   "metadata": {},
   "outputs": [],
   "source": []
  }
 ],
 "metadata": {
  "kernelspec": {
   "display_name": "Python 3 (ipykernel)",
   "language": "python",
   "name": "python3"
  },
  "language_info": {
   "codemirror_mode": {
    "name": "ipython",
    "version": 3
   },
   "file_extension": ".py",
   "mimetype": "text/x-python",
   "name": "python",
   "nbconvert_exporter": "python",
   "pygments_lexer": "ipython3",
   "version": "3.9.12"
  }
 },
 "nbformat": 4,
 "nbformat_minor": 5
}
