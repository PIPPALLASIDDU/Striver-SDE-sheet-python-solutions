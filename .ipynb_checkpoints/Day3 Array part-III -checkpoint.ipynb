{
 "cells": [
  {
   "cell_type": "markdown",
   "id": "b91514d0",
   "metadata": {},
   "source": [
    "# Search in a sorted 2D matrix\n",
    "Problem Statement: Given an m*n 2D matrix and an integer, write a program to find if the given integer exists in the matrix.\n",
    "\n",
    "Given matrix has the following properties:\n",
    "\n",
    "Integers in each row are sorted from left to right.\n",
    "The first integer of each row is greater than the last integer of the previous row"
   ]
  },
  {
   "cell_type": "code",
   "execution_count": 1,
   "id": "0e9b239c",
   "metadata": {},
   "outputs": [
    {
     "name": "stdout",
     "output_type": "stream",
     "text": [
      "True\n"
     ]
    }
   ],
   "source": [
    "#Solution 1: Naive approach\n",
    "def searchmatrix(matrix,target):\n",
    "    for i in range(len(matrix)):\n",
    "        for j in range(len(matrix[0])):\n",
    "            if matrix[i][j]==target:\n",
    "                return True\n",
    "    return False\n",
    "matrix = [[1,3,5,7],[10,11,16,20],[23,30,34,60]]\n",
    "target=3\n",
    "print(\"{}\".format(searchmatrix(matrix,target)))"
   ]
  },
  {
   "cell_type": "code",
   "execution_count": 11,
   "id": "d94f5d05",
   "metadata": {},
   "outputs": [
    {
     "name": "stdout",
     "output_type": "stream",
     "text": [
      "True\n"
     ]
    }
   ],
   "source": [
    "#Solution 2: [Efficient] – Binary search - TC O(log n2) -n square beacause the length of matrix is m*n\n",
    "def searchmatrix(matrix,target):\n",
    "    m=len(matrix)\n",
    "    n=len(matrix[0])\n",
    "    st=0\n",
    "    end=m*n-1\n",
    "    while st<=end:\n",
    "        mid=(st+end)//2\n",
    "        if matrix[mid//m][mid%m]==target:\n",
    "            return True\n",
    "        elif matrix[mid//m][mid%m]>target:\n",
    "            end=mid-1\n",
    "        else:\n",
    "            st=mid+1\n",
    "    return False\n",
    "matrix = [[1,3,5,7],[10,11,16,20],[23,30,34,60]]\n",
    "target=3\n",
    "print(\"{}\".format(searchmatrix(matrix,target)))"
   ]
  },
  {
   "cell_type": "code",
   "execution_count": 14,
   "id": "87bfff7f",
   "metadata": {},
   "outputs": [
    {
     "name": "stdout",
     "output_type": "stream",
     "text": [
      "True\n"
     ]
    }
   ],
   "source": [
    "#solution 3 my approach gives better TC O(n+logn) n-travese through just 1st column | log n - traveserse through 1 row only\n",
    "def searchmatrix(matrix,target):\n",
    "    n=len(matrix)\n",
    "    m=len(matrix[0])\n",
    "    for i in range(n):\n",
    "        if matrix[i][0]>target:\n",
    "            r=i-1\n",
    "            break       \n",
    "    else:\n",
    "        r=n-1\n",
    "    st=0\n",
    "    end=m-1        \n",
    "    while st<=end:\n",
    "        mid=(st+end)//2\n",
    "        if matrix[r][mid]==target:\n",
    "            return True\n",
    "        elif matrix[r][mid]>target:\n",
    "            end=mid-1\n",
    "        else:\n",
    "            st=mid+1\n",
    "    return False\n",
    "matrix = [[1,3,5,7],[10,11,16,20],[23,30,34,60]]\n",
    "target=3\n",
    "print(\"{}\".format(searchmatrix(matrix,target)))"
   ]
  },
  {
   "cell_type": "markdown",
   "id": "3818e657",
   "metadata": {},
   "source": [
    "# Implement Pow(x,n) | X raised to the power N\n",
    "Problem Statement: \n",
    "Given a double x and integer n, calculate x raised to power n. Basically Implement pow(x, n)."
   ]
  },
  {
   "cell_type": "code",
   "execution_count": 16,
   "id": "acb85a3c",
   "metadata": {},
   "outputs": [
    {
     "name": "stdout",
     "output_type": "stream",
     "text": [
      "1024.0\n"
     ]
    }
   ],
   "source": [
    "#using direct operator:\n",
    "def power(x,n):\n",
    "    return x**n\n",
    "x,n=2,10\n",
    "print(power(2,10))"
   ]
  },
  {
   "cell_type": "code",
   "execution_count": 24,
   "id": "f14debb0",
   "metadata": {},
   "outputs": [
    {
     "name": "stdout",
     "output_type": "stream",
     "text": [
      "0.0009765625\n"
     ]
    }
   ],
   "source": [
    "#iterating a loop\n",
    "def power(x,n):\n",
    "    num=1\n",
    "    if n==0:\n",
    "        return 1\n",
    "    for i in range(abs(n)):\n",
    "        num*=x\n",
    "    if n<0:\n",
    "        return 1/num\n",
    "    return num\n",
    "x,n=2,10\n",
    "print(power(2,-10))"
   ]
  },
  {
   "cell_type": "code",
   "execution_count": 26,
   "id": "e49c64cc",
   "metadata": {},
   "outputs": [
    {
     "name": "stdout",
     "output_type": "stream",
     "text": [
      "1024\n"
     ]
    }
   ],
   "source": [
    "#Solution 2: Using Binary Exponentiation\n",
    "def power(x,n):\n",
    "    num=1\n",
    "    nn=abs(n)\n",
    "    if n==0:\n",
    "        return 1\n",
    "    while nn>0:\n",
    "        if nn%2==1:\n",
    "            num=num*x\n",
    "            nn-=1\n",
    "        else:\n",
    "            x*=x\n",
    "            nn//=2\n",
    "    if n<0:\n",
    "        return 1/num\n",
    "    return num\n",
    "x,n=2,10\n",
    "print(power(2,10))"
   ]
  },
  {
   "cell_type": "markdown",
   "id": "5e8b1486",
   "metadata": {},
   "source": [
    "# Find the Majority Element that occurs more than N/2 times\n",
    "Problem Statement: Given an array of N integers, write a program to return an element that occurs more than N/2 times in the given array. You may consider that such an element always exists in the array."
   ]
  },
  {
   "cell_type": "code",
   "execution_count": 27,
   "id": "ee072dae",
   "metadata": {},
   "outputs": [
    {
     "name": "stdout",
     "output_type": "stream",
     "text": [
      "majority elemnt is  4\n"
     ]
    }
   ],
   "source": [
    "#brute force approach - find the count of each elemnt and check if its greater than n/2\n",
    "\n",
    "def majorityelement(nums):\n",
    "    for i in set(nums):                  #set function gives only unique values making it simple to traverse only unique elements\n",
    "        if nums.count(i)>len(nums)//2:   #special list function in python to find count of a elemnt\n",
    "            return i\n",
    "nums= [4,4,2,4,3,4,4,3,2,4]\n",
    "print(\"majority elemnt is \",majorityelement(nums))\n"
   ]
  },
  {
   "cell_type": "code",
   "execution_count": 29,
   "id": "8c333efa",
   "metadata": {},
   "outputs": [
    {
     "name": "stdout",
     "output_type": "stream",
     "text": [
      "majority elemnt is  4\n"
     ]
    }
   ],
   "source": [
    "#using a datastrcutre like hashmap or dictionary to store as key value pairs\n",
    "def majorityelement(nums):\n",
    "    d={}\n",
    "    for i in nums:\n",
    "        if i not in d.keys():\n",
    "            d[i]=1\n",
    "        else:\n",
    "            d[i]+=1\n",
    "        if d[i]>len(nums)//2:\n",
    "            return i\n",
    "    return nums[-1]\n",
    "nums= [4,4,2,4,3,4,4,3,2,4]\n",
    "print(\"majority elemnt is \",majorityelement(nums))"
   ]
  },
  {
   "cell_type": "code",
   "execution_count": 30,
   "id": "3e9ec615",
   "metadata": {},
   "outputs": [
    {
     "name": "stdout",
     "output_type": "stream",
     "text": [
      "majority elemnt is  4\n"
     ]
    }
   ],
   "source": [
    "#Solution 3 (Optimal): Moore’s Voting Algorithm\n",
    "def majorityelement(nums):\n",
    "    cnt,ele=0,0\n",
    "    for i in nums:\n",
    "        if cnt==0:\n",
    "            ele=i\n",
    "        if i==ele:\n",
    "            cnt+=1\n",
    "        else:\n",
    "            cnt-=1\n",
    "    return ele\n",
    "nums= [4,4,2,4,3,4,4,3,2,4]\n",
    "print(\"majority elemnt is \",majorityelement(nums))"
   ]
  },
  {
   "cell_type": "markdown",
   "id": "6772dd8e",
   "metadata": {},
   "source": [
    "# Majority Elements(>N/3 times) | Find the elements that appears more than N/3 times in the array\n",
    "Problem Statement: Given an array of N integers. Find the elements that appear more than N/3 times in the array. If no such element exists, return an empty vector."
   ]
  },
  {
   "cell_type": "code",
   "execution_count": 34,
   "id": "c1f4a23a",
   "metadata": {},
   "outputs": [
    {
     "name": "stdout",
     "output_type": "stream",
     "text": [
      "majority elemnt is  [4]\n"
     ]
    }
   ],
   "source": [
    "def majorityelement(nums):\n",
    "    x=[]\n",
    "    for i in set(nums):                  #set function gives only unique values making it simple to traverse only unique elements\n",
    "        if i in x:\n",
    "            continue\n",
    "        if nums.count(i)>len(nums)//3:   #special list function in python to find count of a elemnt\n",
    "            if i not in x:\n",
    "                x.append(i)\n",
    "    return x\n",
    "nums= [4,4,2,4,3,4,4,3,2,4]\n",
    "print(\"majority elemnt is \",majorityelement(nums))"
   ]
  },
  {
   "cell_type": "code",
   "execution_count": 33,
   "id": "d998102e",
   "metadata": {},
   "outputs": [
    {
     "name": "stdout",
     "output_type": "stream",
     "text": [
      "majority elemnt is  [4]\n"
     ]
    }
   ],
   "source": [
    "#using a datastrcutre like hashmap or dictionary to store as key value pairs\n",
    "def majorityelement(nums):\n",
    "    d={}\n",
    "    x=[]\n",
    "    for i in nums:\n",
    "        if i not in d.keys():\n",
    "            d[i]=1\n",
    "        else:\n",
    "            d[i]+=1\n",
    "        if d[i]>len(nums)//3:\n",
    "            x.append(i)\n",
    "    return list(set(x))         #set discards repetating values as the elements count than len(nums)//3 also added in list x\n",
    "nums= [4,4,2,4,3,4,4,3,2,4]\n",
    "print(\"majority elemnt is \",majorityelement(nums))"
   ]
  },
  {
   "cell_type": "code",
   "execution_count": 36,
   "id": "d7727243",
   "metadata": {},
   "outputs": [
    {
     "name": "stdout",
     "output_type": "stream",
     "text": [
      "majority elemnt is  [4]\n"
     ]
    }
   ],
   "source": [
    "'''\n",
    "Solution 3: Optimal Solution (Extended Boyer Moore’s Voting Algorithm)\n",
    "\n",
    "Approach + Intuition: In our code, we start with declaring a few variables:\n",
    "\n",
    "num1 and num2 will store our currently most frequent and second most frequent element.\n",
    "c1 and c2 will store their frequency relatively to other numbers.\n",
    "We are sure that there will be a max of 2 elements which occurs > N/3 times because there cannot be if you do a simple math addition.\n",
    "'''\n",
    "def majorityelement(nums):\n",
    "    x=[]\n",
    "    cnt1,ele1=0,-1\n",
    "    cnt2,ele2=0,-1\n",
    "    for i in nums:\n",
    "        if i==ele1:\n",
    "            cnt1+=1\n",
    "        elif i==ele2:\n",
    "            cnt2+=1\n",
    "        elif cnt1==0:\n",
    "            ele1=i\n",
    "            cnt1=1\n",
    "        elif cnt2==0:\n",
    "            ele2=i\n",
    "            cnt2=1\n",
    "        else:\n",
    "            cnt1-=1\n",
    "            cnt2-=1\n",
    "    cnt1=nums.count(ele1)\n",
    "    cnt2=nums.count(ele2)\n",
    "    if cnt1>len(nums)//3:\n",
    "        x.append(ele1)\n",
    "    if cnt2>len(nums)//3:\n",
    "        x.append(ele2)\n",
    "    return x\n",
    "nums= [4,4,2,4,3,4,4,3,2,4]\n",
    "print(\"majority elemnt is \",majorityelement(nums))"
   ]
  },
  {
   "cell_type": "markdown",
   "id": "173816b3",
   "metadata": {},
   "source": [
    "# Grid Unique Paths | Count paths from left-top to the right bottom of a matrix\n",
    "Problem Statement: Given a matrix m X n, count paths from left-top to the right bottom of a matrix with the constraints that from each cell you can either only move to the rightward direction or the downward direction."
   ]
  },
  {
   "cell_type": "code",
   "execution_count": 13,
   "id": "181861f4",
   "metadata": {},
   "outputs": [
    {
     "name": "stdout",
     "output_type": "stream",
     "text": [
      "number of paths 6\n"
     ]
    }
   ],
   "source": [
    "#recursive approach\n",
    "def countpaths(m,n,r,c):\n",
    "    if r==m-1 and c==n-1:\n",
    "        return 1\n",
    "    if r<m and c<n:\n",
    "            return countpaths(m,n,r+1,c)+countpaths(m,n,r,c+1)\n",
    "    else:\n",
    "        return 0\n",
    "\n",
    "m,n=3,3\n",
    "countpaths(m,n,0,0)\n",
    "print(\"number of paths\",countpaths(m,n,0,0))"
   ]
  },
  {
   "cell_type": "code",
   "execution_count": 15,
   "id": "2a937d4b",
   "metadata": {},
   "outputs": [
    {
     "name": "stdout",
     "output_type": "stream",
     "text": [
      "number of paths 6\n"
     ]
    }
   ],
   "source": [
    "#recursive with Dp using dictionary\n",
    "d={}\n",
    "def countpaths(m,n,r,c):\n",
    "    if (r,c) in d:\n",
    "        return d[(r,c)]\n",
    "    elif r==m-1 and c==n-1:\n",
    "        return 1\n",
    "    elif r<m and c<n:\n",
    "        d[(r,c)]=countpaths(m,n,r+1,c)+countpaths(m,n,r,c+1)\n",
    "    else:\n",
    "        return 0\n",
    "    return d[(r,c)]\n",
    "    \n",
    "m,n=3,3\n",
    "countpaths(m,n,0,0)\n",
    "print(\"number of paths\",countpaths(m,n,0,0))"
   ]
  },
  {
   "cell_type": "code",
   "execution_count": 18,
   "id": "b7bf7ee2",
   "metadata": {},
   "outputs": [
    {
     "name": "stdout",
     "output_type": "stream",
     "text": [
      "number of paths 6\n"
     ]
    }
   ],
   "source": [
    "#recursive with Dp using matrix\n",
    "def countpaths(m,n,r,c,mat):\n",
    "    if r==m-1 and c==n-1:\n",
    "        return 1\n",
    "    elif r<m and c<n:\n",
    "        if mat[r][c]!=-1:\n",
    "            return mat[r][c]\n",
    "        mat[r][c]=countpaths(m,n,r+1,c,mat)+countpaths(m,n,r,c+1,mat)\n",
    "    else:\n",
    "        return 0\n",
    "    return mat[r][c]\n",
    "   \n",
    "m,n=3,3\n",
    "mat=[[-1]*n for i in range(m)]\n",
    "print(\"number of paths\",countpaths(m,n,0,0,mat))"
   ]
  },
  {
   "cell_type": "code",
   "execution_count": 28,
   "id": "f62a2ed8",
   "metadata": {},
   "outputs": [
    {
     "name": "stdout",
     "output_type": "stream",
     "text": [
      "number of paths 6\n"
     ]
    }
   ],
   "source": [
    "\"\"\"\n",
    "From start to reach the end we need a certain number of rightward directions and a certain number of downward directions. \n",
    "So we can figure out we need n-1 no. of rightward direction and m-1 no. of downward direction to reach the endpoint.\n",
    "\n",
    "Since we need an m+n-2 number of steps to reach the end among those steps if we choose n-1 rightward direction or m-1 \n",
    "downward direction and calculate the combinations ( ie: m+n-2Cn-1 or m+n-2Cm-1) we’ll get the total number of paths.\n",
    "\n",
    "\"\"\"\n",
    "def countpaths(m,n):\n",
    "    res,x=1,(n+m-2)\n",
    "    rm=1\n",
    "    r=m-1\n",
    "    for i in range(m-1):\n",
    "        res=res*((x-i))\n",
    "        rm*=(r-i)\n",
    "    return int(res/rm)\n",
    "m,n=3,3\n",
    "print(\"number of paths\",countpaths(m,n))"
   ]
  },
  {
   "cell_type": "code",
   "execution_count": null,
   "id": "a6b902dd",
   "metadata": {},
   "outputs": [],
   "source": []
  }
 ],
 "metadata": {
  "kernelspec": {
   "display_name": "Python 3 (ipykernel)",
   "language": "python",
   "name": "python3"
  },
  "language_info": {
   "codemirror_mode": {
    "name": "ipython",
    "version": 3
   },
   "file_extension": ".py",
   "mimetype": "text/x-python",
   "name": "python",
   "nbconvert_exporter": "python",
   "pygments_lexer": "ipython3",
   "version": "3.9.12"
  }
 },
 "nbformat": 4,
 "nbformat_minor": 5
}
