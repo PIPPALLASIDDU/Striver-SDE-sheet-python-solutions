{
 "cells": [
  {
   "cell_type": "markdown",
   "id": "2cf21e6d",
   "metadata": {},
   "source": [
    "# Problems on Recursion"
   ]
  },
  {
   "cell_type": "code",
   "execution_count": 1,
   "id": "eaf7f2a5",
   "metadata": {},
   "outputs": [
    {
     "name": "stdout",
     "output_type": "stream",
     "text": [
      "5\n",
      "Siddu\n",
      "Siddu\n",
      "Siddu\n",
      "Siddu\n",
      "Siddu\n"
     ]
    }
   ],
   "source": [
    "#print name n times\n",
    "def f(i,n):\n",
    "    if i>n:\n",
    "        return\n",
    "    print(\"Siddu\")\n",
    "    f(i+1,n)\n",
    "n=int(input())\n",
    "f(1,n)"
   ]
  },
  {
   "cell_type": "code",
   "execution_count": 3,
   "id": "eab09ed0",
   "metadata": {},
   "outputs": [
    {
     "name": "stdout",
     "output_type": "stream",
     "text": [
      "5\n",
      "1 2 3 4 5 "
     ]
    }
   ],
   "source": [
    "#print 1 to n linearly\n",
    "def f(i,n):\n",
    "    if i>n:\n",
    "        return\n",
    "    print(i,end=\" \")\n",
    "    f(i+1,n)\n",
    "n=int(input())\n",
    "f(1,n)"
   ]
  },
  {
   "cell_type": "code",
   "execution_count": 4,
   "id": "6376d674",
   "metadata": {},
   "outputs": [
    {
     "name": "stdout",
     "output_type": "stream",
     "text": [
      "5\n",
      "5 4 3 2 1 "
     ]
    }
   ],
   "source": [
    "#print n to 1 linearly\n",
    "def f(i):\n",
    "    if i<1:\n",
    "        return\n",
    "    print(i,end=\" \")\n",
    "    f(i-1)\n",
    "n=int(input())\n",
    "f(n)"
   ]
  },
  {
   "cell_type": "code",
   "execution_count": null,
   "id": "9b65e71e",
   "metadata": {},
   "outputs": [],
   "source": [
    "#print 1 to n using backtracking (using subtraction rather addition, call before printing)\n",
    "\n",
    " "
   ]
  }
 ],
 "metadata": {
  "kernelspec": {
   "display_name": "Python 3 (ipykernel)",
   "language": "python",
   "name": "python3"
  },
  "language_info": {
   "codemirror_mode": {
    "name": "ipython",
    "version": 3
   },
   "file_extension": ".py",
   "mimetype": "text/x-python",
   "name": "python",
   "nbconvert_exporter": "python",
   "pygments_lexer": "ipython3",
   "version": "3.9.13"
  }
 },
 "nbformat": 4,
 "nbformat_minor": 5
}
