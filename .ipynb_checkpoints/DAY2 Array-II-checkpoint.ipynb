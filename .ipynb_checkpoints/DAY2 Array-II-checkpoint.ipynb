{
 "cells": [
  {
   "cell_type": "markdown",
   "id": "368bd51d",
   "metadata": {},
   "source": [
    "# Rotate Image by 90 degree\n",
    "Problem Statement: Given a matrix, your task is to rotate the matrix 90 degrees clockwise."
   ]
  },
  {
   "cell_type": "code",
   "execution_count": 6,
   "id": "b1336b09",
   "metadata": {},
   "outputs": [
    {
     "name": "stdout",
     "output_type": "stream",
     "text": [
      "1 2 3 \n",
      "4 5 6 \n",
      "7 8 9 \n",
      "clockwise\n",
      "7 4 1 \n",
      "8 5 2 \n",
      "9 6 3 \n",
      "anticlockwise\n",
      "3 6 9 \n",
      "2 5 8 \n",
      "1 4 7 \n"
     ]
    }
   ],
   "source": [
    "#bruteforce apprach\n",
    "def clockwise(arr,n):\n",
    "    matrix=[[-1]*n for i in range(n)]\n",
    "    for i in range(n):\n",
    "        for j in range(n):\n",
    "            matrix[j][n-1-i]=arr[i][j]\n",
    "    return matrix\n",
    "def anticlockwise(arr,n):\n",
    "    matrix=[[-1]*n for i in range(n)]\n",
    "    for i in range(n):\n",
    "        for j in range(n):\n",
    "            matrix[n-1-j][i]=arr[i][j]\n",
    "    return matrix\n",
    "\n",
    "arr=[[1,2,3],[4,5,6],[7,8,9]]\n",
    "for i in range(n):\n",
    "    for j in range(n):\n",
    "        print(arr[i][j],end=\" \")\n",
    "    print()\n",
    "n=len(arr)\n",
    "print(\"clockwise\")\n",
    "x=clockwise(arr,n)\n",
    "for i in range(n):\n",
    "    for j in range(n):\n",
    "        print(x[i][j],end=\" \")\n",
    "    print()\n",
    "print(\"anticlockwise\")\n",
    "y=anticlockwise(arr,n)\n",
    "for i in range(n):\n",
    "    for j in range(n):\n",
    "        print(y[i][j],end=\" \")\n",
    "    print()\n"
   ]
  },
  {
   "cell_type": "code",
   "execution_count": 11,
   "id": "93a33786",
   "metadata": {},
   "outputs": [
    {
     "name": "stdout",
     "output_type": "stream",
     "text": [
      "1 2 3 \n",
      "4 5 6 \n",
      "7 8 9 \n",
      "rotate clockwise\n",
      "7 4 1 \n",
      "8 5 2 \n",
      "9 6 3 \n",
      "rotate anticlockwise\n",
      "1 2 3 \n",
      "4 5 6 \n",
      "7 8 9 \n"
     ]
    }
   ],
   "source": [
    "def clockwise(arr,n):\n",
    "    for i in range(n):\n",
    "        for j in range(i+1,n):\n",
    "            tmp=arr[i][j]\n",
    "            arr[i][j]=arr[j][i]\n",
    "            arr[j][i]=tmp\n",
    "    for i in range(n):\n",
    "        for j in range(n//2):\n",
    "            temp=arr[i][j]\n",
    "            arr[i][j]=arr[i][n-1-j]\n",
    "            arr[i][n-1-j]=temp\n",
    "            \n",
    "def anticlockwise(arr,n):\n",
    "    for i in range(n):\n",
    "        for j in range(i+1,n):\n",
    "            tmp=arr[i][j]\n",
    "            arr[i][j]=arr[j][i]\n",
    "            arr[j][i]=tmp\n",
    "    for i in range(n//2):\n",
    "        for j in range(n):\n",
    "            temp=arr[i][j]\n",
    "            arr[i][j]=arr[n-1-i][j]\n",
    "            arr[n-1-i][j]=temp\n",
    "\n",
    "arr=[[1,2,3],[4,5,6],[7,8,9]]\n",
    "for i in range(n):\n",
    "    for j in range(n):\n",
    "        print(arr[i][j],end=\" \")\n",
    "    print()\n",
    "n=len(arr)\n",
    "print(\"rotate clockwise\")\n",
    "clockwise(arr,n)\n",
    "for i in range(n):\n",
    "    for j in range(n):\n",
    "        print(arr[i][j],end=\" \")\n",
    "    print()\n",
    "print(\"rotate anticlockwise of the clockwise - so we get the intial matrix\")\n",
    "anticlockwise(arr,n)\n",
    "for i in range(n):\n",
    "    for j in range(n):\n",
    "        print(arr[i][j],end=\" \")\n",
    "    print()"
   ]
  },
  {
   "cell_type": "markdown",
   "id": "ae65dcb2",
   "metadata": {},
   "source": [
    "# Merge Overlapping Sub-intervals\n",
    "Problem Statement: Given an array of intervals, merge all the overlapping intervals and return an array of non-overlapping intervals."
   ]
  },
  {
   "cell_type": "code",
   "execution_count": 13,
   "id": "19208515",
   "metadata": {},
   "outputs": [
    {
     "name": "stdout",
     "output_type": "stream",
     "text": [
      "[[1, 3], [2, 4], [2, 6], [5, 4], [8, 9], [8, 10], [9, 11], [15, 18], [16, 17]]\n",
      "after merging  [[1, 6], [8, 11], [15, 18]]\n"
     ]
    }
   ],
   "source": [
    "#bruteforce approach\n",
    "def merger(arr,ans):\n",
    "    arr.sort()\n",
    "    n=len(arr)\n",
    "    for i in range(n):\n",
    "        start=arr[i][0]\n",
    "        end=arr[i][1]\n",
    "        if ans!=[]:\n",
    "            if start<=ans[-1][1]:\n",
    "                continue\n",
    "        for j in range(i+1,n):\n",
    "            if arr[j][0]<=end:\n",
    "                end=max(end,arr[j][1])\n",
    "        end=max(end,arr[i][1])\n",
    "        ans.append([start,end])\n",
    "        \n",
    "    pass\n",
    "arr=[[1,3],[2,4],[2,6],[8,9],[8,10],[9,11],[15,18],[16,17],[5,4]]\n",
    "ans=[]\n",
    "merger(arr,ans)\n",
    "print(arr)\n",
    "print(\"after merging \",ans)"
   ]
  },
  {
   "cell_type": "code",
   "execution_count": 15,
   "id": "b4aa6b2b",
   "metadata": {},
   "outputs": [
    {
     "name": "stdout",
     "output_type": "stream",
     "text": [
      "[[1, 3], [2, 4], [2, 6], [5, 4], [8, 9], [8, 10], [9, 11], [15, 18], [16, 17]]\n",
      "after merging  [[1, 6], [8, 11], [15, 18]]\n"
     ]
    }
   ],
   "source": [
    "#optimal approach\n",
    "def merger(arr,ans):\n",
    "    arr.sort()\n",
    "    n=len(arr)\n",
    "    x=arr[0]\n",
    "    for i in range(n):\n",
    "        if x[1]>=arr[i][0]:\n",
    "            if x[1]<arr[i][1]:\n",
    "                x=[x[0],arr[i][1]]\n",
    "        else:\n",
    "            ans.append(x)\n",
    "            x=arr[i]\n",
    "    ans.append(x)   \n",
    "        \n",
    "arr=[[1,3],[2,4],[2,6],[8,9],[8,10],[9,11],[15,18],[16,17],[5,4]]\n",
    "ans=[]\n",
    "merger(arr,ans)\n",
    "print(arr)\n",
    "print(\"after merging \",ans)"
   ]
  },
  {
   "cell_type": "markdown",
   "id": "8f884e2e",
   "metadata": {},
   "source": [
    "# Merge two Sorted Arrays Without Extra Space\n",
    "Problem statement: Given two sorted arrays arr1[] and arr2[] of sizes n and m in non-decreasing order. Merge them in sorted order. Modify arr1 so that it contains the first N elements and modify arr2 so that it contains the last M elements."
   ]
  },
  {
   "cell_type": "code",
   "execution_count": null,
   "id": "357e7a3c",
   "metadata": {},
   "outputs": [],
   "source": []
  }
 ],
 "metadata": {
  "kernelspec": {
   "display_name": "Python 3 (ipykernel)",
   "language": "python",
   "name": "python3"
  },
  "language_info": {
   "codemirror_mode": {
    "name": "ipython",
    "version": 3
   },
   "file_extension": ".py",
   "mimetype": "text/x-python",
   "name": "python",
   "nbconvert_exporter": "python",
   "pygments_lexer": "ipython3",
   "version": "3.9.12"
  }
 },
 "nbformat": 4,
 "nbformat_minor": 5
}
