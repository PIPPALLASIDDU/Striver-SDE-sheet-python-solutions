{
 "cells": [
  {
   "cell_type": "markdown",
   "id": "07a1c4d6",
   "metadata": {},
   "source": [
    "# Rotate Image by 90 degree\n",
    "Problem Statement: Given a matrix, your task is to rotate the matrix 90 degrees clockwise."
   ]
  },
  {
   "cell_type": "code",
   "execution_count": 6,
   "id": "36461517",
   "metadata": {},
   "outputs": [
    {
     "name": "stdout",
     "output_type": "stream",
     "text": [
      "1 2 3 \n",
      "4 5 6 \n",
      "7 8 9 \n",
      "clockwise\n",
      "7 4 1 \n",
      "8 5 2 \n",
      "9 6 3 \n",
      "anticlockwise\n",
      "3 6 9 \n",
      "2 5 8 \n",
      "1 4 7 \n"
     ]
    }
   ],
   "source": [
    "#bruteforce apprach\n",
    "def clockwise(arr,n):\n",
    "    matrix=[[-1]*n for i in range(n)]\n",
    "    for i in range(n):\n",
    "        for j in range(n):\n",
    "            matrix[j][n-1-i]=arr[i][j]\n",
    "    return matrix\n",
    "def anticlockwise(arr,n):\n",
    "    matrix=[[-1]*n for i in range(n)]\n",
    "    for i in range(n):\n",
    "        for j in range(n):\n",
    "            matrix[n-1-j][i]=arr[i][j]\n",
    "    return matrix\n",
    "\n",
    "arr=[[1,2,3],[4,5,6],[7,8,9]]\n",
    "for i in range(n):\n",
    "    for j in range(n):\n",
    "        print(arr[i][j],end=\" \")\n",
    "    print()\n",
    "n=len(arr)\n",
    "print(\"clockwise\")\n",
    "x=clockwise(arr,n)\n",
    "for i in range(n):\n",
    "    for j in range(n):\n",
    "        print(x[i][j],end=\" \")\n",
    "    print()\n",
    "print(\"anticlockwise\")\n",
    "y=anticlockwise(arr,n)\n",
    "for i in range(n):\n",
    "    for j in range(n):\n",
    "        print(y[i][j],end=\" \")\n",
    "    print()\n"
   ]
  },
  {
   "cell_type": "code",
   "execution_count": 11,
   "id": "cb96a225",
   "metadata": {},
   "outputs": [
    {
     "name": "stdout",
     "output_type": "stream",
     "text": [
      "1 2 3 \n",
      "4 5 6 \n",
      "7 8 9 \n",
      "rotate clockwise\n",
      "7 4 1 \n",
      "8 5 2 \n",
      "9 6 3 \n",
      "rotate anticlockwise\n",
      "1 2 3 \n",
      "4 5 6 \n",
      "7 8 9 \n"
     ]
    }
   ],
   "source": [
    "def clockwise(arr,n):\n",
    "    for i in range(n):\n",
    "        for j in range(i+1,n):\n",
    "            tmp=arr[i][j]\n",
    "            arr[i][j]=arr[j][i]\n",
    "            arr[j][i]=tmp\n",
    "    for i in range(n):\n",
    "        for j in range(n//2):\n",
    "            temp=arr[i][j]\n",
    "            arr[i][j]=arr[i][n-1-j]\n",
    "            arr[i][n-1-j]=temp\n",
    "            \n",
    "def anticlockwise(arr,n):\n",
    "    for i in range(n):\n",
    "        for j in range(i+1,n):\n",
    "            tmp=arr[i][j]\n",
    "            arr[i][j]=arr[j][i]\n",
    "            arr[j][i]=tmp\n",
    "    for i in range(n//2):\n",
    "        for j in range(n):\n",
    "            temp=arr[i][j]\n",
    "            arr[i][j]=arr[n-1-i][j]\n",
    "            arr[n-1-i][j]=temp\n",
    "\n",
    "arr=[[1,2,3],[4,5,6],[7,8,9]]\n",
    "for i in range(n):\n",
    "    for j in range(n):\n",
    "        print(arr[i][j],end=\" \")\n",
    "    print()\n",
    "n=len(arr)\n",
    "print(\"rotate clockwise\")\n",
    "clockwise(arr,n)\n",
    "for i in range(n):\n",
    "    for j in range(n):\n",
    "        print(arr[i][j],end=\" \")\n",
    "    print()\n",
    "print(\"rotate anticlockwise of the clockwise - so we get the intial matrix\")\n",
    "anticlockwise(arr,n)\n",
    "for i in range(n):\n",
    "    for j in range(n):\n",
    "        print(arr[i][j],end=\" \")\n",
    "    print()"
   ]
  },
  {
   "cell_type": "code",
   "execution_count": null,
   "id": "60b59a10",
   "metadata": {},
   "outputs": [],
   "source": []
  }
 ],
 "metadata": {
  "kernelspec": {
   "display_name": "Python 3 (ipykernel)",
   "language": "python",
   "name": "python3"
  },
  "language_info": {
   "codemirror_mode": {
    "name": "ipython",
    "version": 3
   },
   "file_extension": ".py",
   "mimetype": "text/x-python",
   "name": "python",
   "nbconvert_exporter": "python",
   "pygments_lexer": "ipython3",
   "version": "3.9.12"
  }
 },
 "nbformat": 4,
 "nbformat_minor": 5
}
