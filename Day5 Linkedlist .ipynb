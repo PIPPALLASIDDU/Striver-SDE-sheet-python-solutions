{
 "cells": [
  {
   "cell_type": "markdown",
   "id": "afb5ccee",
   "metadata": {},
   "source": [
    "# Reverse a Linked List\n",
    "Problem Statement: \n",
    "Given the head of a singly linked list, write a program to reverse the linked list, and return the head pointer to the reversed list."
   ]
  },
  {
   "cell_type": "code",
   "execution_count": null,
   "id": "cc32a9a2",
   "metadata": {},
   "outputs": [],
   "source": [
    "#iterative way\n",
    "def reverseList(head):\n",
    "    prev_n=None\n",
    "    current_n=head\n",
    "    next_n=head.next\n",
    "    while current_n:\n",
    "        next_n=current_n.next\n",
    "        current_n.next=prev_n\n",
    "        \n",
    "        prev_n=current_n\n",
    "        current_n=next_n\n",
    "    temp=prev_n\n",
    "    return temp\n"
   ]
  },
  {
   "cell_type": "code",
   "execution_count": null,
   "id": "f372efff",
   "metadata": {},
   "outputs": [],
   "source": [
    "#recursive way\n",
    "def reverseList(head):\n",
    "    newhead=None\n",
    "    while head:\n",
    "        next_n=head.next\n",
    "        head.next=newhead\n",
    "        newhead=head\n",
    "        head=next_n\n",
    "    return newhead"
   ]
  },
  {
   "cell_type": "code",
   "execution_count": null,
   "id": "eea28564",
   "metadata": {},
   "outputs": [],
   "source": [
    "#using recursion\n",
    "def reverseList(head):\n",
    "    if head is None or head.next is None:\n",
    "        return head\n",
    "    new_node=ReverseList(head.next)\n",
    "    head.next.next=head\n",
    "    head.next=None\n",
    "    return new_node"
   ]
  },
  {
   "cell_type": "markdown",
   "id": "6d04b5ab",
   "metadata": {},
   "source": [
    "# Find middle element in a Linked List\n",
    "Problem Statement:\n",
    "Given the head of a singly linked list, return the middle node of the linked list. If there are two middle nodes, return the second middle node."
   ]
  },
  {
   "cell_type": "code",
   "execution_count": null,
   "id": "4c42f184",
   "metadata": {},
   "outputs": [],
   "source": [
    "def middleNode(self, head: Optional[ListNode]) -> Optional[ListNode]:\n",
    "    n=0\n",
    "    temp=head\n",
    "    while temp:\n",
    "        n+=1\n",
    "        temp=temp.next\n",
    "    n=n//2+1\n",
    "    temp=head\n",
    "    i=1\n",
    "    while temp:\n",
    "        if i==n:\n",
    "            return temp\n",
    "        temp=temp.next\n",
    "        i+=1\n",
    "\n",
    "        "
   ]
  }
 ],
 "metadata": {
  "kernelspec": {
   "display_name": "Python 3 (ipykernel)",
   "language": "python",
   "name": "python3"
  },
  "language_info": {
   "codemirror_mode": {
    "name": "ipython",
    "version": 3
   },
   "file_extension": ".py",
   "mimetype": "text/x-python",
   "name": "python",
   "nbconvert_exporter": "python",
   "pygments_lexer": "ipython3",
   "version": "3.9.12"
  }
 },
 "nbformat": 4,
 "nbformat_minor": 5
}
