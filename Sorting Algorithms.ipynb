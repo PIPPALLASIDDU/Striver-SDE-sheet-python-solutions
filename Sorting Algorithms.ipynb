{
 "cells": [
  {
   "cell_type": "markdown",
   "id": "258aae17",
   "metadata": {},
   "source": [
    "# Count Sort : Explained with Examples\n",
    "Problem Statement: \n",
    "Given an array sort the elements of the array using count sort.\n",
    "\n",
    "Introduction to Count Sort\n",
    "Count sort is one of the non-comparison stable sorting algorithms which sorts elements within a range k in O(n+k) time complexity.\n",
    "Properties of Count Sort\n",
    "1.It is a linear time algorithm when input lies within a small range 2.k i.e. k should be linear with respect to n.\n",
    "3.It is a non-comparison based sorting algorithm because it counts the occurrences of elements and on that basis, sorting takes place.\n",
    "4.It is a stable sorting algorithm.\n",
    "5.It is used as a subroutine in radix sort.\n"
   ]
  },
  {
   "cell_type": "code",
   "execution_count": 3,
   "id": "db9194bc",
   "metadata": {},
   "outputs": [
    {
     "name": "stdout",
     "output_type": "stream",
     "text": [
      "[2, 5, 5, 6]\n"
     ]
    }
   ],
   "source": [
    "#naive Approach\n",
    "def countsort(arr,k):\n",
    "    cntarr=[0]*k\n",
    "    for i in arr:\n",
    "        cntarr[i]+=1\n",
    "    ind=0\n",
    "    for i in range(k):\n",
    "        for j in range(cntarr[i]):\n",
    "            arr[ind]=i\n",
    "            ind+=1\n",
    "arr=[5,6,5,2]\n",
    "countsort(arr,7)\n",
    "print(arr)"
   ]
  },
  {
   "cell_type": "code",
   "execution_count": 5,
   "id": "063c04dd",
   "metadata": {},
   "outputs": [
    {
     "name": "stdout",
     "output_type": "stream",
     "text": [
      "[2, 5, 5, 6]\n"
     ]
    }
   ],
   "source": [
    "#Efficinet Approach\n",
    "def countsort(arr,k):\n",
    "    cntarr=[0]*k\n",
    "    resarr=[0]*len(arr)\n",
    "    for i in arr:\n",
    "        cntarr[i]+=1\n",
    "    for i in range(1,k):\n",
    "        cntarr[i]+=cntarr[i-1]\n",
    "    for i in arr[::-1]:\n",
    "        a=cntarr[i]\n",
    "        resarr[a-1]=i\n",
    "        cntarr[i]-=1\n",
    "    return resarr\n",
    "arr=[5,6,5,2]\n",
    "x=countsort(arr,7)\n",
    "print(x)"
   ]
  },
  {
   "cell_type": "markdown",
   "id": "a8f44dc3",
   "metadata": {},
   "source": [
    "# merge sort\n",
    "Problem:  \n",
    "Given an array of size n, sort the array using Merge Sort.\n",
    "Example 1:\n",
    "Input: N=5, arr[]={4,2,1,6,7}\n",
    "Output: 1,2,4,6,7,\n",
    "\n",
    "\n",
    "Example 2:\n",
    "Input: N=7,arr[]={3,2,8,5,1,4,23}\n",
    "Output: 1,2,3,4,5,8,23\n"
   ]
  },
  {
   "cell_type": "markdown",
   "id": "648d0088",
   "metadata": {},
   "source": [
    "#Merge Sort is a divide and conquers algorithm, it divides the given array into equal parts and then merges the 2 sorted parts. \n",
    "\n",
    "-> There are 2 main functions : \n",
    "\n",
    "Merge() : This function is used to merge the 2 halves of the array . It assumes that both part of the array are sorted and merges both of them\n",
    "MergeSort() : This function divides the array into 2 parts . L to Miid and Mid+1 to R where,\n",
    "  L = leftmost index of array\n",
    "\n",
    "  R = rightmost index of array\n",
    "\n",
    "  Mid = Middle index of array \n",
    "\n",
    "-> We recursively split the array, go from top-down until all sub-arrays size becomes 1.\n",
    "\n",
    "Approach : \n",
    "\n",
    "-> We will be creating 2 functions mergeSort() and merge()\n",
    "\n",
    "-> In mergeSort(), we will divide the array around the middle element by making the recursive call :\n",
    "\n",
    "1.mergeSort(arr,l,mid)   2. mergeSort(arr,mid+1,r)    \n",
    "\n",
    " where l = leftmost index of array, r = rightmost index of array , mid = middle index of array\n",
    "\n",
    "-> In merge(),  we will use a temporary array named temp. This will be used to store elements in sorted order from both the arrays which we divided.\n",
    "\n",
    "->From the temporary array, we will return back the elements in the original array.\n",
    "\n",
    "-> Now , let   i = leftmost index of array, j = mid+1 index of array , f = leftmost index of array ( this index will be used to store elements in the original array ) \n",
    "\n",
    "-> While i<= mid && j <= r , we will store elements from both the parts in temporary array in sorted manner \n",
    "\n",
    "-> Finally will transfer all elements from the temporary array to the original array.\n",
    "\n",
    "-> The red number shows an order of the steps in recursion calls"
   ]
  },
  {
   "cell_type": "code",
   "execution_count": 4,
   "id": "cc13a13c",
   "metadata": {},
   "outputs": [
    {
     "name": "stdout",
     "output_type": "stream",
     "text": [
      "before sorting\n",
      "[9, 4, 7, 6, 3, 1, 5]\n",
      "after sorting\n",
      "[1, 3, 4, 5, 6, 7, 9]\n"
     ]
    }
   ],
   "source": [
    "def mergesort(arr,l,r):\n",
    "    if l<r:\n",
    "        mid=(l+r)//2\n",
    "        mergesort(arr,l,mid)\n",
    "        mergesort(arr,mid+1,r)\n",
    "        merge(arr,l,mid,r)\n",
    "        \n",
    "def merge(arr,l,mid,r):\n",
    "    i,j,f=l,mid+1,l\n",
    "    temp=[0]*1000000000\n",
    "    while (i<=mid and j<=r):\n",
    "        if arr[i]<arr[j]:\n",
    "            temp[f]=arr[i]\n",
    "            i+=1\n",
    "        else:\n",
    "            temp[f]=arr[j]\n",
    "            j+=1\n",
    "        f+=1\n",
    "    if i>mid:\n",
    "        while j<=r:\n",
    "            temp[f]=arr[j]\n",
    "            f+=1\n",
    "            j+=1\n",
    "    else:\n",
    "        while i<=mid:\n",
    "            temp[f]=arr[i]\n",
    "            f+=1\n",
    "            i+=1\n",
    "    for i in range(l,r+1):\n",
    "        arr[i]=temp[i]\n",
    "    \n",
    "arr=[9,4,7,6,3,1,5]\n",
    "n=len(arr)\n",
    "print(\"before sorting\")\n",
    "print(arr)\n",
    "mergesort(arr,0,n-1)\n",
    "print(\"after sorting\")\n",
    "print(arr)"
   ]
  }
 ],
 "metadata": {
  "kernelspec": {
   "display_name": "Python 3 (ipykernel)",
   "language": "python",
   "name": "python3"
  },
  "language_info": {
   "codemirror_mode": {
    "name": "ipython",
    "version": 3
   },
   "file_extension": ".py",
   "mimetype": "text/x-python",
   "name": "python",
   "nbconvert_exporter": "python",
   "pygments_lexer": "ipython3",
   "version": "3.9.12"
  }
 },
 "nbformat": 4,
 "nbformat_minor": 5
}
