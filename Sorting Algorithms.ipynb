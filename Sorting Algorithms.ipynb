{
 "cells": [
  {
   "cell_type": "markdown",
   "id": "8c5161cb",
   "metadata": {},
   "source": [
    "# Count Sort : Explained with Examples\n",
    "Problem Statement: \n",
    "Given an array sort the elements of the array using count sort.\n",
    "\n",
    "Introduction to Count Sort\n",
    "Count sort is one of the non-comparison stable sorting algorithms which sorts elements within a range k in O(n+k) time complexity.\n",
    "Properties of Count Sort\n",
    "1.It is a linear time algorithm when input lies within a small range 2.k i.e. k should be linear with respect to n.\n",
    "3.It is a non-comparison based sorting algorithm because it counts the occurrences of elements and on that basis, sorting takes place.\n",
    "4.It is a stable sorting algorithm.\n",
    "5.It is used as a subroutine in radix sort.\n"
   ]
  },
  {
   "cell_type": "code",
   "execution_count": 3,
   "id": "81551249",
   "metadata": {},
   "outputs": [
    {
     "name": "stdout",
     "output_type": "stream",
     "text": [
      "[2, 5, 5, 6]\n"
     ]
    }
   ],
   "source": [
    "#naive Approach\n",
    "def countsort(arr,k):\n",
    "    cntarr=[0]*k\n",
    "    for i in arr:\n",
    "        cntarr[i]+=1\n",
    "    ind=0\n",
    "    for i in range(k):\n",
    "        for j in range(cntarr[i]):\n",
    "            arr[ind]=i\n",
    "            ind+=1\n",
    "arr=[5,6,5,2]\n",
    "countsort(arr,7)\n",
    "print(arr)"
   ]
  },
  {
   "cell_type": "code",
   "execution_count": 5,
   "id": "ff931b88",
   "metadata": {},
   "outputs": [
    {
     "name": "stdout",
     "output_type": "stream",
     "text": [
      "[2, 5, 5, 6]\n"
     ]
    }
   ],
   "source": [
    "#Efficinet Approach\n",
    "def countsort(arr,k):\n",
    "    cntarr=[0]*k\n",
    "    resarr=[0]*len(arr)\n",
    "    for i in arr:\n",
    "        cntarr[i]+=1\n",
    "    for i in range(1,k):\n",
    "        cntarr[i]+=cntarr[i-1]\n",
    "    for i in arr[::-1]:\n",
    "        a=cntarr[i]\n",
    "        resarr[a-1]=i\n",
    "        cntarr[i]-=1\n",
    "    return resarr\n",
    "arr=[5,6,5,2]\n",
    "x=countsort(arr,7)\n",
    "print(x)"
   ]
  },
  {
   "cell_type": "markdown",
   "id": "e2419d68",
   "metadata": {},
   "source": [
    "# merge sort"
   ]
  }
 ],
 "metadata": {
  "kernelspec": {
   "display_name": "Python 3 (ipykernel)",
   "language": "python",
   "name": "python3"
  },
  "language_info": {
   "codemirror_mode": {
    "name": "ipython",
    "version": 3
   },
   "file_extension": ".py",
   "mimetype": "text/x-python",
   "name": "python",
   "nbconvert_exporter": "python",
   "pygments_lexer": "ipython3",
   "version": "3.9.12"
  }
 },
 "nbformat": 4,
 "nbformat_minor": 5
}
