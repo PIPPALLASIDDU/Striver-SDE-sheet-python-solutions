{
 "cells": [
  {
   "cell_type": "markdown",
   "id": "7f3806c7",
   "metadata": {},
   "source": [
    "# N meetings in one room\n",
    "Problem Statement: \n",
    "- There is one meeting room in a firm. You are given two arrays, start and end each of size N.For an index ‘i’, start[i] denotes the starting time of the ith meeting while end[i]  will denote the ending time of the ith meeting. Find the maximum number of meetings that can be accommodated if only one meeting can happen in the room at a  particular time. Print the order in which these meetings will be performed."
   ]
  },
  {
   "cell_type": "code",
   "execution_count": null,
   "id": "f669935c",
   "metadata": {},
   "outputs": [],
   "source": [
    "#To proceed we need a vector of three quantities: the starting time, ending time, meeting number. Sort this data structure in ascending order of end time. \n",
    "\n",
    "#We need a variable to store the answer. Initially, the answer is 1 because the first meeting can always be performed. \n",
    "#Make another variable, say limit that keeps track of the ending time of the meeting that was last performed. Initially set limit as the end time of the first meeting.\n",
    "    def maximumMeetings(self,n,start,end):\n",
    "        lt=[]\n",
    "        for i in range(n):\n",
    "            lt.append((start[i],end[i]))\n",
    "        meet=sorted(lt,key=lambda x:x[1])\n",
    "        limit=meet[0][1]\n",
    "        cnt=1\n",
    "        for i in range(1,n):\n",
    "            if meet[i][0]>limit:\n",
    "                limit=meet[i][1]\n",
    "                cnt+=1\n",
    "        return cnt"
   ]
  },
  {
   "cell_type": "markdown",
   "id": "a5f9f3f7",
   "metadata": {},
   "source": [
    "# Minimum number of platforms required for a railway\n",
    "Problem Statement: \n",
    "- We are given two arrays that represent the arrival and departure times of trains that stop at the platform. We need to find the minimum number of platforms needed at the railway station so that no train has to wait."
   ]
  },
  {
   "cell_type": "code",
   "execution_count": null,
   "id": "19b78589",
   "metadata": {},
   "outputs": [],
   "source": [
    "#naive approach\n",
    "'''\n",
    "Intuition: Take each interval of arrival and departure one by one and count the number of overlapping time intervals. \n",
    "This can easily be done using nested for-loops. \n",
    "Maintain the maximum value of the count during the process and return the maximum value at the end.\n",
    "\n",
    "Approach: We need to run two nested for-loops. \n",
    "Inside the inner loop count the number of intervals which intersect with the interval represented by the outer loop. \n",
    "As soon as the inner loop ends just update the maximum value of count and proceed with the next iteration of the outer loop.\n",
    "After the process ends we will get the maximum value of the count.\n",
    "'''\n",
    "def minimumPlatform(self,n,arr,dep):\n",
    "    ans=1\n",
    "    for i in range(n):\n",
    "        cnt=1\n",
    "        for j in range(i+1,n):\n",
    "            if (arr[i]>=arr[j] and arr[i]<=dep[j]) or (arr[j]>=arr[i] and arr[j]<=dep[i]):\n",
    "                cnt+=1\n",
    "        ans=max([ans,cnt])\n",
    "    return ans"
   ]
  },
  {
   "cell_type": "code",
   "execution_count": null,
   "id": "221e50b0",
   "metadata": {},
   "outputs": [],
   "source": [
    "#Efficient approach (Sorting)- 2 pointer approach \n",
    "\n",
    "'''\n",
    "Intuition: At first we need to sort both the arrays. \n",
    "When the events will be sorted, it will be easy to track the count of trains that have arrived but not departed yet. \n",
    "Total platforms needed at one time can be found by taking the difference of arrivals and departures at that time \n",
    "and the maximum value of all times will be the final answer.\n",
    "\n",
    "we dont need to look the train arrival and departure as whole , consider a train coming and leaving at specific time \n",
    "'''\n",
    "def minimumPlatform(self,n,arr,dep):\n",
    "    arr.sort()\n",
    "    dep.sort()\n",
    "    plat=1\n",
    "    result=1\n",
    "    i,j=1,0\n",
    "    while i<n and j<n:\n",
    "        if arr[i]<=dep[j]:\n",
    "            plat+=1\n",
    "            i+=1\n",
    "        else:\n",
    "            plat-=1\n",
    "            j+=1\n",
    "        result=max((plat,result))\n",
    "    return result"
   ]
  },
  {
   "cell_type": "markdown",
   "id": "8dab40af",
   "metadata": {},
   "source": [
    "# Job Sequencing Problem\n",
    "Problem Statement: \n",
    "- You are given a set of N jobs where each job comes with a deadline and profit. The profit can only be earned upon completing the job within its deadline. Find the number of jobs done and the maximum profit that can be obtained. Each job takes a single unit of time and only one job can be performed at a time."
   ]
  },
  {
   "cell_type": "code",
   "execution_count": null,
   "id": "f80c4569",
   "metadata": {},
   "outputs": [],
   "source": [
    "#striver approach \n",
    "    def JobScheduling(self,Jobs,n):\n",
    "        jobs=sorted(Jobs,key=lambda x:-x.profit)\n",
    "        maxi=max([i.deadline for i in jobs])\n",
    "        res=[-1]*(maxi+1)\n",
    "        cnt,prof=0,0\n",
    "        for i in range(n):\n",
    "            for j in range(jobs[i].deadline,0,-1):\n",
    "                if res[j]==-1:\n",
    "                    res[j]=i\n",
    "                    cnt+=1\n",
    "                    prof+=jobs[i].profit\n",
    "                    break\n",
    "        return [cnt,prof]"
   ]
  },
  {
   "cell_type": "code",
   "execution_count": null,
   "id": "9496cd44",
   "metadata": {},
   "outputs": [],
   "source": [
    "#my approach\n",
    "    def JobScheduling(self,Jobs,n):\n",
    "        jobs=sorted(Jobs,key=lambda x:(-x.profit))\n",
    "        time=0\n",
    "        cnt=0\n",
    "        jprofit=0\n",
    "        for i in range(n):\n",
    "            if time<jobs[i].deadline:\n",
    "                time+=1\n",
    "                cnt+=1\n",
    "                jprofit+=jobs[i].profit\n",
    "        return [cnt,jprofit]\n"
   ]
  }
 ],
 "metadata": {
  "kernelspec": {
   "display_name": "Python 3 (ipykernel)",
   "language": "python",
   "name": "python3"
  },
  "language_info": {
   "codemirror_mode": {
    "name": "ipython",
    "version": 3
   },
   "file_extension": ".py",
   "mimetype": "text/x-python",
   "name": "python",
   "nbconvert_exporter": "python",
   "pygments_lexer": "ipython3",
   "version": "3.9.13"
  }
 },
 "nbformat": 4,
 "nbformat_minor": 5
}
