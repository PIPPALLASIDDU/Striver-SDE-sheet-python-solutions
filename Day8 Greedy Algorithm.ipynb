{
 "cells": [
  {
   "cell_type": "markdown",
   "id": "e198a0d5",
   "metadata": {},
   "source": [
    "# N meetings in one room\n",
    "Problem Statement: \n",
    "- There is one meeting room in a firm. You are given two arrays, start and end each of size N.For an index ‘i’, start[i] denotes the starting time of the ith meeting while end[i]  will denote the ending time of the ith meeting. Find the maximum number of meetings that can be accommodated if only one meeting can happen in the room at a  particular time. Print the order in which these meetings will be performed."
   ]
  },
  {
   "cell_type": "code",
   "execution_count": null,
   "id": "6c78018f",
   "metadata": {},
   "outputs": [],
   "source": [
    "#To proceed we need a vector of three quantities: the starting time, ending time, meeting number. Sort this data structure in ascending order of end time. \n",
    "\n",
    "#We need a variable to store the answer. Initially, the answer is 1 because the first meeting can always be performed. \n",
    "#Make another variable, say limit that keeps track of the ending time of the meeting that was last performed. Initially set limit as the end time of the first meeting.\n",
    "    def maximumMeetings(self,n,start,end):\n",
    "        lt=[]\n",
    "        for i in range(n):\n",
    "            lt.append((start[i],end[i]))\n",
    "        meet=sorted(lt,key=lambda x:x[1])\n",
    "        limit=meet[0][1]\n",
    "        cnt=1\n",
    "        for i in range(1,n):\n",
    "            if meet[i][0]>limit:\n",
    "                limit=meet[i][1]\n",
    "                cnt+=1\n",
    "        return cnt"
   ]
  },
  {
   "cell_type": "markdown",
   "id": "feb21d15",
   "metadata": {},
   "source": [
    "# Minimum number of platforms required for a railway\n",
    "Problem Statement: \n",
    "- We are given two arrays that represent the arrival and departure times of trains that stop at the platform. We need to find the minimum number of platforms needed at the railway station so that no train has to wait."
   ]
  },
  {
   "cell_type": "code",
   "execution_count": null,
   "id": "4ac7b0b6",
   "metadata": {},
   "outputs": [],
   "source": [
    "#naive approach\n",
    "'''\n",
    "Intuition: Take each interval of arrival and departure one by one and count the number of overlapping time intervals. \n",
    "This can easily be done using nested for-loops. \n",
    "Maintain the maximum value of the count during the process and return the maximum value at the end.\n",
    "\n",
    "Approach: We need to run two nested for-loops. \n",
    "Inside the inner loop count the number of intervals which intersect with the interval represented by the outer loop. \n",
    "As soon as the inner loop ends just update the maximum value of count and proceed with the next iteration of the outer loop.\n",
    "After the process ends we will get the maximum value of the count.\n",
    "'''\n",
    "def minimumPlatform(self,n,arr,dep):\n",
    "    ans=1\n",
    "    for i in range(n):\n",
    "        cnt=1\n",
    "        for j in range(i+1,n):\n",
    "            if (arr[i]>=arr[j] and arr[i]<=dep[j]) or (arr[j]>=arr[i] and arr[j]<=dep[i]):\n",
    "                cnt+=1\n",
    "        ans=max([ans,cnt])\n",
    "    return ans"
   ]
  },
  {
   "cell_type": "code",
   "execution_count": null,
   "id": "c6539e1b",
   "metadata": {},
   "outputs": [],
   "source": [
    "#Efficient approach (Sorting)- 2 pointer approach \n",
    "\n",
    "'''\n",
    "Intuition: At first we need to sort both the arrays. \n",
    "When the events will be sorted, it will be easy to track the count of trains that have arrived but not departed yet. \n",
    "Total platforms needed at one time can be found by taking the difference of arrivals and departures at that time \n",
    "and the maximum value of all times will be the final answer.\n",
    "\n",
    "we dont need to look the train arrival and departure as whole , consider a train coming and leaving at specific time \n",
    "'''\n",
    "def minimumPlatform(self,n,arr,dep):\n",
    "    arr.sort()\n",
    "    dep.sort()\n",
    "    plat=1\n",
    "    result=1\n",
    "    i,j=1,0\n",
    "    while i<n and j<n:\n",
    "        if arr[i]<=dep[j]:\n",
    "            plat+=1\n",
    "            i+=1\n",
    "        else:\n",
    "            plat-=1\n",
    "            j+=1\n",
    "        result=max((plat,result))\n",
    "    return result"
   ]
  },
  {
   "cell_type": "markdown",
   "id": "7ed74cfc",
   "metadata": {},
   "source": [
    "# Job Sequencing Problem\n",
    "Problem Statement: \n",
    "- You are given a set of N jobs where each job comes with a deadline and profit. The profit can only be earned upon completing the job within its deadline. Find the number of jobs done and the maximum profit that can be obtained. Each job takes a single unit of time and only one job can be performed at a time."
   ]
  },
  {
   "cell_type": "code",
   "execution_count": null,
   "id": "3320acfe",
   "metadata": {},
   "outputs": [],
   "source": [
    "#striver approach \n",
    "    def JobScheduling(self,Jobs,n):\n",
    "        jobs=sorted(Jobs,key=lambda x:-x.profit)\n",
    "        maxi=max([i.deadline for i in jobs])\n",
    "        res=[-1]*(maxi+1)\n",
    "        cnt,prof=0,0\n",
    "        for i in range(n):\n",
    "            for j in range(jobs[i].deadline,0,-1):\n",
    "                if res[j]==-1:\n",
    "                    res[j]=i\n",
    "                    cnt+=1\n",
    "                    prof+=jobs[i].profit\n",
    "                    break\n",
    "        return [cnt,prof]"
   ]
  },
  {
   "cell_type": "code",
   "execution_count": null,
   "id": "ebb304cc",
   "metadata": {},
   "outputs": [],
   "source": [
    "#my approach\n",
    "    def JobScheduling(self,Jobs,n):\n",
    "        jobs=sorted(Jobs,key=lambda x:(-x.profit))\n",
    "        time=0\n",
    "        cnt=0\n",
    "        jprofit=0\n",
    "        for i in range(n):\n",
    "            if time<jobs[i].deadline:\n",
    "                time+=1\n",
    "                cnt+=1\n",
    "                jprofit+=jobs[i].profit\n",
    "        return [cnt,jprofit]\n"
   ]
  },
  {
   "cell_type": "markdown",
   "id": "6240cc3c",
   "metadata": {},
   "source": [
    "# Fractional Knapsack Problem : Greedy Approach\n",
    "Problem Statement: \n",
    "- The weight of N items and their corresponding values are given. We have to put these items in a knapsack of weight W such that the total value obtained is maximized.\n",
    "\n",
    "Note: We can either take the item as a whole or break it into smaller units."
   ]
  },
  {
   "cell_type": "code",
   "execution_count": null,
   "id": "d969fa6f",
   "metadata": {},
   "outputs": [],
   "source": [
    "#sort according to value to weight ratio(decending) for max profit\n",
    "    def fractionalknapsack(self, W,Items,n):\n",
    "        def cmpr_func(x):\n",
    "            return x.value/x.weight\n",
    "        items=sorted(Items,key=cmpr_func,reverse=True)\n",
    "        wt=0\n",
    "        val=0\n",
    "        for i in range(n):\n",
    "            if wt+items[i].weight<=W:\n",
    "                wt+=items[i].weight\n",
    "                val+=items[i].value\n",
    "            else:\n",
    "                remain=W-wt\n",
    "                val+= (remain*items[i].value)/items[i].weight\n",
    "                break\n",
    "        return val"
   ]
  },
  {
   "cell_type": "markdown",
   "id": "73986938",
   "metadata": {},
   "source": [
    "# Find minimum number of coins\n",
    "Problem Statement: \n",
    "- Given a value V, if we want to make a change for V Rs, and we have an infinite supply of each of the denominations in Indian currency, i.e., we have an infinite supply of { 1, 2, 5, 10, 20, 50, 100, 500, 1000} valued coins/notes, what is the minimum number of coins and/or notes needed to make the change."
   ]
  },
  {
   "cell_type": "code",
   "execution_count": null,
   "id": "8ce321b7",
   "metadata": {},
   "outputs": [],
   "source": [
    "#coins= [1, 2, 5, 10, 20, 50, 100, 500, 1000]\n",
    "    def minCoins(self, coins, M, V):\n",
    "\t\tcoins=sorted(coins, reverse=True)\n",
    "\t\tmn=10000000000000\n",
    "\t\tcnt=0\n",
    "\t\tfor i in range(M):\n",
    "\t\t    while V>=coins[j]:\n",
    "\t\t        V-=coins[j]\n",
    "\t\t        cnt+=1\n",
    "        return cnt"
   ]
  },
  {
   "cell_type": "markdown",
   "id": "7414b1d3",
   "metadata": {},
   "source": [
    "# Activity Selection same as N meetings in 1 room\n",
    "- so refer the 1st question in this notebook"
   ]
  }
 ],
 "metadata": {
  "kernelspec": {
   "display_name": "Python 3 (ipykernel)",
   "language": "python",
   "name": "python3"
  },
  "language_info": {
   "codemirror_mode": {
    "name": "ipython",
    "version": 3
   },
   "file_extension": ".py",
   "mimetype": "text/x-python",
   "name": "python",
   "nbconvert_exporter": "python",
   "pygments_lexer": "ipython3",
   "version": "3.9.13"
  }
 },
 "nbformat": 4,
 "nbformat_minor": 5
}
