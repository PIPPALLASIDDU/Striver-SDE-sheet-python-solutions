{
 "cells": [
  {
   "cell_type": "markdown",
   "id": "f7d4b279",
   "metadata": {},
   "source": [
    "# Two Sum : Check if a pair with given sum exists in Array\n",
    "Problem Statement: Given an array of integers nums[] and an integer target, return indices of the two numbers such that their sum is equal to the target."
   ]
  },
  {
   "cell_type": "code",
   "execution_count": 1,
   "id": "ea02c9bf",
   "metadata": {},
   "outputs": [
    {
     "name": "stdout",
     "output_type": "stream",
     "text": [
      "[1, 2]\n"
     ]
    }
   ],
   "source": [
    "#brute force:\n",
    "def pairsum(arr,target,n):\n",
    "    for i in range(n-1):\n",
    "        for j in range(i+1,n):\n",
    "            if arr[i]+arr[j]==target:\n",
    "                return [i,j]\n",
    "arr=[3,2,4]\n",
    "n=len(arr)\n",
    "target=6\n",
    "print(pairsum(arr,target,n))"
   ]
  },
  {
   "cell_type": "code",
   "execution_count": 2,
   "id": "ddde2a2d",
   "metadata": {},
   "outputs": [
    {
     "name": "stdout",
     "output_type": "stream",
     "text": [
      "[1, 2]\n"
     ]
    }
   ],
   "source": [
    "#2-pointer approach \n",
    "def pairsum(arr,target,n):\n",
    "    x=sorted(arr)\n",
    "    i,j=0,n-1\n",
    "    while i<j:\n",
    "        if x[i]+x[j]==target:\n",
    "            ind=[x[i],x[j]]\n",
    "            break\n",
    "        elif x[i]+x[j]>target:\n",
    "            j-=1\n",
    "        else:\n",
    "            i+=1\n",
    "    ans=[]\n",
    "    for i in range(n):\n",
    "        if arr[i]==ind[0]:\n",
    "            ans.append(i)\n",
    "        elif arr[i]==ind[1]:\n",
    "            ans.append(i)\n",
    "        elif len(ans)=2:\n",
    "            return ans\n",
    "arr=[3,2,4]\n",
    "n=len(arr)\n",
    "target=6\n",
    "print(pairsum(arr,target,n))"
   ]
  },
  {
   "cell_type": "code",
   "execution_count": 4,
   "id": "48d2f81b",
   "metadata": {},
   "outputs": [
    {
     "name": "stdout",
     "output_type": "stream",
     "text": [
      "[1, 2]\n"
     ]
    }
   ],
   "source": [
    "#using Hashing (Most efficient)\n",
    "def pairsum(arr,target,n):\n",
    "    d={}\n",
    "    for i in range(n):\n",
    "        x=target-arr[i]\n",
    "        if x in d:\n",
    "            return [d[x],i]\n",
    "        else:\n",
    "            d[arr[i]]=i\n",
    "    \n",
    "arr=[3,2,4]\n",
    "n=len(arr)\n",
    "target=6\n",
    "print(pairsum(arr,target,n))"
   ]
  },
  {
   "cell_type": "markdown",
   "id": "c889f2b1",
   "metadata": {},
   "source": [
    "# 4 Sum | Find Quads that add up to a target value\n",
    "Problem Statement: Given an array of N integers, your task is to find unique quads that add up to give a target value. In short, you need to return an array of all the unique quadruplets [arr[a], arr[b], arr[c], arr[d]] such that their sum is equal to a given target.\n"
   ]
  },
  {
   "cell_type": "code",
   "execution_count": 7,
   "id": "52f956a5",
   "metadata": {},
   "outputs": [
    {
     "name": "stdout",
     "output_type": "stream",
     "text": [
      "[[4, 3, 1, 1], [4, 2, 1, 2], [4, 2, 2, 1], [3, 3, 2, 1], [3, 3, 1, 2], [3, 4, 1, 1]]\n"
     ]
    }
   ],
   "source": [
    "#brute force\n",
    "def findquads(arr,target):\n",
    "    ans=[]\n",
    "    for i in range(len(arr)-3):\n",
    "        for j in range(i+1,len(arr)-2):\n",
    "            for k in range(j+1,len(arr)-1):\n",
    "                for l in range(k+1,len(arr)):\n",
    "                    if arr[i]+arr[j]+arr[k]+arr[l]==target:\n",
    "                        if sorted([arr[i],arr[j],arr[k],arr[l]]) not in ans:\n",
    "                            ans.append(sorted([arr[i],arr[j],arr[k],arr[l]]))\n",
    "    return ans\n",
    "\n",
    "\n",
    "arr=[4,3,3,4,4,2,1,2,1,1]\n",
    "target=9\n",
    "print(findquads(arr,target))"
   ]
  },
  {
   "cell_type": "code",
   "execution_count": 24,
   "id": "c41e9155",
   "metadata": {},
   "outputs": [
    {
     "name": "stdout",
     "output_type": "stream",
     "text": [
      "{(1, 2, 2, 4), (1, 1, 3, 4)}\n"
     ]
    }
   ],
   "source": [
    "#3-pointer + binary search approach\n",
    "def findquads(nums,target):\n",
    "    nums.sort()\n",
    "    ans=set()\n",
    "    n=len(nums)\n",
    "    for i in range(n-3):\n",
    "        for j in range(i+1,n-2):\n",
    "            for k in range(j+1,n-1):\n",
    "                x=target-(nums[i]+nums[j]+nums[k])\n",
    "                if binarysearch(arr,k+1,n-1,x)!=-1:\n",
    "                    ans.add(tuple(sorted([nums[i],nums[j],nums[k],x])))\n",
    "    return ans\n",
    "            \n",
    "def binarysearch(arr,l,r,k):\n",
    "    \n",
    "    if l<r:\n",
    "        mid=(l+r)//2\n",
    "        if arr[mid]<k:\n",
    "            l=mid+1\n",
    "            return binarysearch(arr,l,r,k)\n",
    "        elif arr[mid]>k:\n",
    "            r=mid-1\n",
    "            return binarysearch(arr,l,r,k)\n",
    "        if k==arr[mid]:\n",
    "            return mid\n",
    "    else:\n",
    "        return -1\n",
    "arr=[4,3,3,4,4,2,1,2,1,1]\n",
    "target=9\n",
    "print(findquads(arr,target))"
   ]
  },
  {
   "cell_type": "code",
   "execution_count": 2,
   "id": "b73a7bdf",
   "metadata": {},
   "outputs": [
    {
     "name": "stdout",
     "output_type": "stream",
     "text": [
      "[[1, 1, 3, 4], [1, 2, 2, 4], [1, 2, 3, 3]]\n"
     ]
    }
   ],
   "source": [
    "#aptimized approach - 2 pointer + 2 pointer technique on sorted array\n",
    "def findquads(nums,target):\n",
    "    ans=[]\n",
    "    if len(nums)<4:\n",
    "        return ans\n",
    "    if len(nums)==4:\n",
    "        ans.append(nums)\n",
    "        return ans\n",
    "    nums.sort()\n",
    "    n=len(nums)\n",
    "    for i in range(n):\n",
    "        for j in range(i+1,n):\n",
    "            x=target-(nums[i]+nums[j])\n",
    "            f,b=j+1,n-1\n",
    "            while f<b:\n",
    "                if nums[f]+nums[b]==x:\n",
    "                    quad=[nums[i],nums[j],nums[f],nums[b]]\n",
    "                    if quad not in ans:\n",
    "                        ans.append(quad)\n",
    "                    while f<b and nums[f]==quad[2]:\n",
    "                        f+=1\n",
    "                    while f<b and nums[b]==quad[3]:\n",
    "                        b-=1\n",
    "                elif nums[f]+nums[b]>x:\n",
    "                    b-=1\n",
    "                else:\n",
    "                    f+=1\n",
    "                \n",
    "            while j+1<n and nums[j]==nums[j+1]:\n",
    "                j+=1\n",
    "        while i+1<n and nums[i]==nums[i+1]:\n",
    "            i+=1\n",
    "    return ans\n",
    "\n",
    "arr=[4,3,3,4,4,2,1,2,1,1]\n",
    "target=9\n",
    "print(findquads(arr,target))              "
   ]
  },
  {
   "cell_type": "markdown",
   "id": "ade526cc",
   "metadata": {},
   "source": [
    "# Longest Consecutive Sequence in an Array\n",
    "Problem Statement: You are given an array of ‘N’ integers. You need to find the length of the longest sequence which contains the consecutive elements."
   ]
  },
  {
   "cell_type": "code",
   "execution_count": 1,
   "id": "791c94ff",
   "metadata": {},
   "outputs": [
    {
     "name": "stdout",
     "output_type": "stream",
     "text": [
      "the longest consecutive sequence in arr 4\n"
     ]
    }
   ],
   "source": [
    "#brute force approach\n",
    "def lcsarr(nums):\n",
    "    n=len(nums)\n",
    "    if n<1:\n",
    "        return 0\n",
    "    elif n==1:\n",
    "        return 1\n",
    "    nums.sort()\n",
    "    pre=nums[0]-1\n",
    "    cnt=0\n",
    "    ans=0\n",
    "    for i in range(n):\n",
    "        if nums[i]==pre+1:\n",
    "            cnt+=1\n",
    "        elif nums[i]==pre:\n",
    "            pass\n",
    "        else:\n",
    "            cnt=1\n",
    "        pre=nums[i]\n",
    "        if ans<cnt:\n",
    "            ans=cnt\n",
    "    return ans\n",
    "\n",
    "arr=[100, 200, 1, 3, 2, 4]\n",
    "print(\"the longest consecutive sequence in arr\",lcsarr(arr))"
   ]
  },
  {
   "cell_type": "code",
   "execution_count": 3,
   "id": "1533f209",
   "metadata": {},
   "outputs": [
    {
     "name": "stdout",
     "output_type": "stream",
     "text": [
      "the longest consecutive sequence in arr 4\n"
     ]
    }
   ],
   "source": [
    "#optimal approaxch - using hashset(makes searching of elemts in TC O(1))\n",
    "#hazsh sset is not availble in pyhton as library so we use normal set datastructure\n",
    "def lcsarr(nums):\n",
    "    n=len(nums)\n",
    "    if n<1:\n",
    "        return 0\n",
    "    elif n==1:\n",
    "        return 1\n",
    "    obj=set()\n",
    "    lngstrk=0\n",
    "    for i in nums:\n",
    "        obj.add(i)\n",
    "    for i in nums:\n",
    "        if (not (i-1) in obj):\n",
    "            cur=i\n",
    "            strk=1\n",
    "            while (cur+1) in obj:\n",
    "                strk+=1\n",
    "                cur+=1\n",
    "            if lngstrk<strk:\n",
    "                lngstrk=strk\n",
    "    return lngstrk\n",
    "arr=[100, 200, 1, 3, 2, 4]\n",
    "print(\"the longest consecutive sequence in arr\",lcsarr(arr))"
   ]
  },
  {
   "cell_type": "markdown",
   "id": "0ae4c28e",
   "metadata": {},
   "source": [
    "# Length of the longest subarray with zero Sum\n",
    "Problem Statement: \n",
    "Given an array containing both positive and negative integers, we have to find the length of the longest subarray with the sum of all elements equal to zero."
   ]
  },
  {
   "cell_type": "code",
   "execution_count": 7,
   "id": "7944f388",
   "metadata": {},
   "outputs": [
    {
     "name": "stdout",
     "output_type": "stream",
     "text": [
      "the the longest subarray with zero sum 8\n"
     ]
    }
   ],
   "source": [
    "#brute force apprach\n",
    "def lgsubarray(arr,n):\n",
    "    mx=0\n",
    "    for i in range(n):\n",
    "        sm=0\n",
    "        if mx>n-(i+1):\n",
    "            return mx\n",
    "        for j in range(i,n):\n",
    "            sm+=arr[j]\n",
    "            if sm==0:\n",
    "                if mx<j-i+1:\n",
    "                    mx=j-i+1\n",
    "    return mx\n",
    "\n",
    "arr = [6, -2, 2, -8, 1, 7, 4, -10]\n",
    "n=len(arr)\n",
    "print(\"the the longest subarray with zero sum\",lgsubarray(arr,n))\n"
   ]
  },
  {
   "cell_type": "code",
   "execution_count": 8,
   "id": "b31fdc1d",
   "metadata": {},
   "outputs": [
    {
     "name": "stdout",
     "output_type": "stream",
     "text": [
      "the the longest subarray with zero sum 8\n"
     ]
    }
   ],
   "source": [
    "#optimised approaach -suing prefix sum technique\n",
    "def lgsubarray(arr,n):\n",
    "    mx=0\n",
    "    sm=0\n",
    "    d={}\n",
    "    for i in range(n):\n",
    "        sm+=arr[i]\n",
    "        if sm!=0:\n",
    "            if sm in d:\n",
    "                mx=max([mx,i-d[sm]])\n",
    "            else:\n",
    "                d[sm]=i\n",
    "        mx=i+1\n",
    "    return mx\n",
    "\n",
    "arr = [6, -2, 2, -8, 1, 7, 4, -10]\n",
    "n=len(arr)\n",
    "print(\"the the longest subarray with zero sum\",lgsubarray(arr,n))"
   ]
  },
  {
   "cell_type": "markdown",
   "id": "00d3c01c",
   "metadata": {},
   "source": [
    "# Count the number of subarrays with given xor K\n",
    "Problem Statement: Given an array of integers A and an integer B. Find the total number of subarrays having bitwise XOR of all elements equal to B."
   ]
  },
  {
   "cell_type": "code",
   "execution_count": 14,
   "id": "7070a265",
   "metadata": {},
   "outputs": [
    {
     "name": "stdout",
     "output_type": "stream",
     "text": [
      "the the longest subarray with zero sum 4\n"
     ]
    }
   ],
   "source": [
    "#brute force apprach\n",
    "def totsubarray(arr,n,k):\n",
    "    cnt=0\n",
    "    for i in range(n):\n",
    "        if arr[i]==k:\n",
    "            cnt+=1\n",
    "        xor=arr[i]\n",
    "        for j in range(i+1,n):\n",
    "            xor^=arr[j]\n",
    "            if xor==k:\n",
    "                cnt+=1            \n",
    "    return cnt\n",
    "\n",
    "arr = [4, 2, 2, 6, 4]\n",
    "n=len(arr)\n",
    "k=6\n",
    "print(\"the the longest subarray with zero sum\",totsubarray(arr,n,k))"
   ]
  },
  {
   "cell_type": "code",
   "execution_count": 17,
   "id": "0b90e8a3",
   "metadata": {},
   "outputs": [
    {
     "name": "stdout",
     "output_type": "stream",
     "text": [
      "the the longest subarray with zero sum 4\n"
     ]
    }
   ],
   "source": [
    "#optimised approaach -suing prefix sum technique\n",
    "def totsubarray(arr,n,k):\n",
    "    cnt=0\n",
    "    d={}\n",
    "    xor=0\n",
    "    for i in range(n):\n",
    "        xor^=arr[i]\n",
    "        if xor^k in d:\n",
    "            cnt+=d[xor^k]\n",
    "        if xor==k:\n",
    "            cnt+=1\n",
    "        if xor in d:\n",
    "            d[xor]+=1\n",
    "        else:\n",
    "            d[xor]=1\n",
    "    return cnt\n",
    "arr = [4, 2, 2, 6, 4]\n",
    "n=len(arr)\n",
    "k=6\n",
    "print(\"the the longest subarray with zero sum\",totsubarray(arr,n,k))"
   ]
  },
  {
   "cell_type": "markdown",
   "id": "016f3712",
   "metadata": {},
   "source": [
    "# Length of Longest Substring without any Repeating Character\n",
    "Problem Statement: \n",
    "Given a String, find the length of longest substring without any repeating character."
   ]
  },
  {
   "cell_type": "code",
   "execution_count": 18,
   "id": "c78aef30",
   "metadata": {},
   "outputs": [
    {
     "name": "stdout",
     "output_type": "stream",
     "text": [
      "the length of longest substring without repeating chrs 1\n"
     ]
    }
   ],
   "source": [
    "def lngsubstr(s):\n",
    "    mln=0\n",
    "    for i in range(len(s)):\n",
    "        for j in range(i,len(s)):\n",
    "            st=s[i:j+1]\n",
    "            if len(st)==len(set(st)):\n",
    "                if mln<len(st):\n",
    "                    mln=len(st)\n",
    "    return mln\n",
    "\n",
    "s = \"bbbbb\"\n",
    "print(\"the length of longest substring without repeating chrs\",lngsubstr(s))\n"
   ]
  },
  {
   "cell_type": "code",
   "execution_count": 19,
   "id": "a6f4b86b",
   "metadata": {},
   "outputs": [
    {
     "name": "stdout",
     "output_type": "stream",
     "text": [
      "the length of longest substring without repeating chrs 1\n"
     ]
    }
   ],
   "source": [
    "#2 pointer apprach - using kadane algo+set\n",
    "def lngsubstr(s):\n",
    "    mln=0\n",
    "    l,r=0,0\n",
    "    st=set()\n",
    "    for i in range(len(s)):\n",
    "        if s[i] in st:\n",
    "            while l<r and s[i] in st:\n",
    "                st.remove(s[l])\n",
    "                l+=1\n",
    "        st.add(s[i])\n",
    "        if mln<r-l+1:\n",
    "            mln=r-l+1\n",
    "    return mln\n",
    "\n",
    "s = \"bbbbb\"\n",
    "print(\"the length of longest substring without repeating chrs\",lngsubstr(s))\n"
   ]
  },
  {
   "cell_type": "code",
   "execution_count": 23,
   "id": "c8e72913",
   "metadata": {},
   "outputs": [
    {
     "name": "stdout",
     "output_type": "stream",
     "text": [
      "the length of longest substring without repeating chrs 1\n"
     ]
    }
   ],
   "source": [
    "#2 pointer apprach - using kadane algo+ map(dictionary)\n",
    "def lngsubstr(s):\n",
    "    mln=0\n",
    "    l=0\n",
    "    d={}\n",
    "    for i in range(len(s)):\n",
    "        if s[i] in d:\n",
    "            if l<d[s[i]]+1:\n",
    "                l=d[s[i]]+1 \n",
    "        d[s[i]]=i\n",
    "        if mln<i-l+1:\n",
    "            mln=i-l+1\n",
    "    return mln\n",
    "\n",
    "s = \"bbbbb\"\n",
    "print(\"the length of longest substring without repeating chrs\",lngsubstr(s))"
   ]
  },
  {
   "cell_type": "code",
   "execution_count": null,
   "id": "4fa68af7",
   "metadata": {},
   "outputs": [],
   "source": []
  }
 ],
 "metadata": {
  "kernelspec": {
   "display_name": "Python 3 (ipykernel)",
   "language": "python",
   "name": "python3"
  },
  "language_info": {
   "codemirror_mode": {
    "name": "ipython",
    "version": 3
   },
   "file_extension": ".py",
   "mimetype": "text/x-python",
   "name": "python",
   "nbconvert_exporter": "python",
   "pygments_lexer": "ipython3",
   "version": "3.9.12"
  }
 },
 "nbformat": 4,
 "nbformat_minor": 5
}
