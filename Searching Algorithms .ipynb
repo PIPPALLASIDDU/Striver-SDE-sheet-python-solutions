{
 "cells": [
  {
   "cell_type": "markdown",
   "id": "e359f506",
   "metadata": {},
   "source": [
    "# Binary Search\n",
    "So, to optimise the search operation we will use “Binary Search”, that is an algorithm for searching and uses the “Divide and Conquer” technique.\n",
    "\n",
    "Divide and Conquer:\n",
    "\n",
    "Break down the problem into subproblems\n",
    "Solve the sub problems\n",
    "Merge the sub problems to get desired Output\n",
    "\n",
    "Intuition and Thought process for Binary search:\n",
    "#a Binary search algorithm will work, This algorithm will look for the number by dividing the array into half and check if the middle element is greater/lesser/equal to the Key value if the key is less than the middle element then the algorithm will look for key only from starting element to middle-1 position element, else if the key is greater than the mid then it will look from middle element +1 index position element to last element, else if the key is equal to the middle then the algorithm will terminate their itself. This process continues for every half of the array till starting index is less than the ending index.\n",
    "\n",
    "This is how binary search works.\n",
    "\n",
    "Algorithm:\n",
    "\n",
    "#Consider start index to be at 0 and last index to be n-1th index at starting      //n->length \n",
    "#Find middle index(mid) of the array\n",
    "#If key is found to be less than mid index element then update last index of the array to mid -1\n",
    "#Else if key is found to be greater than mid index element then update start index of the array to mid +1\n",
    "#Else check for mid index element with key if not match repeat the above steps till start index is less than end index"
   ]
  },
  {
   "cell_type": "code",
   "execution_count": 2,
   "id": "2f60d09b",
   "metadata": {},
   "outputs": [
    {
     "name": "stdout",
     "output_type": "stream",
     "text": [
      "element 14 found at index 5\n"
     ]
    }
   ],
   "source": [
    "#iterative approach\n",
    "arr=[2,3,7,10,13,14,17]\n",
    "k,n=14,len(arr)-1\n",
    "st,end=0,n\n",
    "loc=-1\n",
    "while (st<=n-1):\n",
    "    mid=(st+end)//2\n",
    "    if arr[mid]<k:\n",
    "        st=mid+1\n",
    "    elif arr[mid]>k:\n",
    "        end=mid-1\n",
    "    if k==arr[mid]:\n",
    "        loc=mid\n",
    "        break\n",
    "if loc==-1:\n",
    "    print(\"element not found\")\n",
    "else:\n",
    "    print(\"element {} found at index {}\".format(k,mid))\n",
    "    "
   ]
  },
  {
   "cell_type": "code",
   "execution_count": 8,
   "id": "9a95d623",
   "metadata": {},
   "outputs": [
    {
     "name": "stdout",
     "output_type": "stream",
     "text": [
      "element 14 found at index 5\n"
     ]
    }
   ],
   "source": [
    "#Recursive Approach\n",
    "def binarysearch(arr,l,r,k):  \n",
    "    if l<r:\n",
    "        mid=(l+r)//2\n",
    "        if arr[mid]<k:\n",
    "            l=mid+1\n",
    "            return binarysearch(arr,l,r,k)\n",
    "        elif arr[mid]>k:\n",
    "            r=mid-1\n",
    "            return binarysearch(arr,l,r,k)\n",
    "        if k==arr[mid]:\n",
    "            return mid\n",
    "    else:\n",
    "        return -1\n",
    "arr=[2,3,7,10,13,14,17]\n",
    "k,n=14,len(arr)-1\n",
    "st,end=0,n\n",
    "loc=binarysearch(arr,st,end,k)\n",
    "if loc==-1:\n",
    "    print(\"element not found\")\n",
    "else:\n",
    "    print(\"element {} found at index {}\".format(k,loc))"
   ]
  },
  {
   "cell_type": "code",
   "execution_count": null,
   "id": "9fb71863",
   "metadata": {},
   "outputs": [],
   "source": []
  }
 ],
 "metadata": {
  "kernelspec": {
   "display_name": "Python 3 (ipykernel)",
   "language": "python",
   "name": "python3"
  },
  "language_info": {
   "codemirror_mode": {
    "name": "ipython",
    "version": 3
   },
   "file_extension": ".py",
   "mimetype": "text/x-python",
   "name": "python",
   "nbconvert_exporter": "python",
   "pygments_lexer": "ipython3",
   "version": "3.9.12"
  }
 },
 "nbformat": 4,
 "nbformat_minor": 5
}
