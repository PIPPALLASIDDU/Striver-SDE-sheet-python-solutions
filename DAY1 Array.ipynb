{
 "cells": [
  {
   "cell_type": "markdown",
   "id": "c376d60d",
   "metadata": {},
   "source": [
    "# Set Matrix Zero\n",
    "Problem Statement: Given a matrix if an element in the matrix is 0 then you will have to set its entire column and row to 0 and then return the matrix."
   ]
  },
  {
   "cell_type": "code",
   "execution_count": 4,
   "id": "439bfc06",
   "metadata": {},
   "outputs": [
    {
     "name": "stdout",
     "output_type": "stream",
     "text": [
      "0 0 0 0 \n",
      "0 4 5 0 \n",
      "0 3 1 0 \n"
     ]
    }
   ],
   "source": [
    "#solution1-bruteforce\n",
    "def solution1(matrix):\n",
    "    row=len(matrix)\n",
    "    col=len(matrix[0])\n",
    "    for i in range(row):\n",
    "        for j in range(col):\n",
    "            if matrix[i][j]==0:\n",
    "                ind=i-1\n",
    "                while ind>=0:                   #upper row elements\n",
    "                    if matrix[ind][j]!=0:\n",
    "                        matrix[ind][j]=-1\n",
    "                    ind-=1\n",
    "                ind=i+1\n",
    "                while ind<row:                   #lower row elements\n",
    "                    if matrix[ind][j]!=0:\n",
    "                        matrix[ind][j]=-1\n",
    "                    ind+=1\n",
    "                ind=j-1\n",
    "                while ind>=0:                   #upper columns elements\n",
    "                    if matrix[i][ind]!=0:\n",
    "                        matrix[i][ind]=-1\n",
    "                    ind-=1\n",
    "                ind=j+1\n",
    "                while ind<col:                    #lower row elements\n",
    "                    if matrix[i][ind]!=0:\n",
    "                        matrix[i][ind]=-1\n",
    "                    ind+=1\n",
    "    for i in range(row):\n",
    "        for j in range(col):\n",
    "            if matrix[i][j]==-1:\n",
    "                matrix[i][j]=0\n",
    "                \n",
    "arr=[[0, 1, 2, 0], [3, 4, 5, 2], [1, 3, 1, 5]]\n",
    "solution1(arr)\n",
    "for i in arr:\n",
    "    for j in i:\n",
    "        print(j,end=\" \")\n",
    "    print()"
   ]
  },
  {
   "cell_type": "code",
   "execution_count": 11,
   "id": "e323e983",
   "metadata": {},
   "outputs": [
    {
     "name": "stdout",
     "output_type": "stream",
     "text": [
      "0 0 0 0 \n",
      "0 4 5 0 \n",
      "0 3 1 0 \n"
     ]
    }
   ],
   "source": [
    "#solution2-better approach\n",
    "def solution2(matrix):\n",
    "    row=len(matrix)\n",
    "    col=len(matrix[0])\n",
    "    dummy_row=[-1]*row\n",
    "    dummy_col=[-1]*col\n",
    "    for i in range(row):\n",
    "        for j in range(col):\n",
    "            if matrix[i][j]==0:\n",
    "                dummy_row[i]=0\n",
    "                dummy_col[j]=0\n",
    "    for i in range(row):\n",
    "        for j in range(col):\n",
    "            if (dummy_row[i]==0 or dummy_col[j]==0):\n",
    "                matrix[i][j]=0\n",
    "            \n",
    "arr=[[0, 1, 2, 0], [3, 4, 5, 2], [1, 3, 1, 5]]\n",
    "solution2(arr)\n",
    "for i in arr:\n",
    "    for j in i:\n",
    "        print(j,end=\" \")\n",
    "    print()"
   ]
  },
  {
   "cell_type": "code",
   "execution_count": 26,
   "id": "cd0c8ab6",
   "metadata": {},
   "outputs": [
    {
     "name": "stdout",
     "output_type": "stream",
     "text": [
      "0 0 0 0 \n",
      "0 4 5 0 \n",
      "0 3 1 0 \n"
     ]
    }
   ],
   "source": [
    "#solution3-best approach\n",
    "def solution3(matrix):\n",
    "    row=len(matrix)\n",
    "    col=len(matrix[0])\n",
    "    col0=1\n",
    "    for i in range(row):\n",
    "        if matrix[i][0]==0:\n",
    "            col0=0\n",
    "        for j in range(1,col):\n",
    "            if matrix[i][j]==0:\n",
    "                matrix[i][0],matrix[0][j]=0,0\n",
    "    for i in range(row-1,-1,-1):\n",
    "        for j in range(col-1,0,-1):\n",
    "            if (matrix[i][0]==0 or matrix[0][j]==0):\n",
    "                matrix[i][j]=0\n",
    "        if col0==0:\n",
    "            matrix[i][0]=0\n",
    "            \n",
    "arr=[[0, 1, 2, 0], [3, 4, 5, 2], [1, 3, 1, 5]]\n",
    "solution3(arr)\n",
    "for i in arr:\n",
    "    for j in i:\n",
    "        print(j,end=\" \")\n",
    "    print()"
   ]
  },
  {
   "cell_type": "markdown",
   "id": "cc6e8a34",
   "metadata": {},
   "source": [
    "# In Pascal’s triangle, \n",
    "each number is the sum of the two numbers directly above it as shown in the figure below:"
   ]
  },
  {
   "cell_type": "code",
   "execution_count": 19,
   "id": "33eefe97",
   "metadata": {},
   "outputs": [
    {
     "name": "stdout",
     "output_type": "stream",
     "text": [
      "5\n",
      "    1 \n",
      "   1 1 \n",
      "  1 2 1 \n",
      " 1 3 3 1 \n",
      "1 4 6 4 1 \n"
     ]
    }
   ],
   "source": [
    "#solution - adding previous row elments\n",
    "def pascal_triangle(n):\n",
    "    mat=[[0]*i for i in range(1,n+1)]\n",
    "    for i in range(n):\n",
    "        mat[i][0],mat[i][i]=1,1\n",
    "        for j in range(1,i):\n",
    "            mat[i][j]=mat[i-1][j]+mat[i-1][j-1]\n",
    "\n",
    "    \n",
    "n=int(input())\n",
    "pascal_triangle(n)\n",
    "for i in range(n):\n",
    "    print(\" \"*(n-i-1),end=\"\")\n",
    "    for j in mat[i]:\n",
    "        print(j,end=\" \")\n",
    "    print()"
   ]
  },
  {
   "cell_type": "markdown",
   "id": "f5fc62ae",
   "metadata": {},
   "source": [
    "# next_permutation : find next lexicographically greater permutation\n",
    "Given an array Arr[] of integers, rearrange the numbers of the given array into the lexicographically next greater permutation of numbers.\n",
    "\n",
    "If such an arrangement is not possible, it must rearrange it as the lowest possible order (i.e., sorted in ascending order)."
   ]
  },
  {
   "cell_type": "code",
   "execution_count": 27,
   "id": "c9e2d9cf",
   "metadata": {},
   "outputs": [
    {
     "name": "stdout",
     "output_type": "stream",
     "text": [
      "1 5 1 "
     ]
    }
   ],
   "source": [
    "#brute force solution - find all the permuatations(in order)\n",
    "#in python we use the itertools library for permuattion function \n",
    "#but this always exceeds the time \n",
    "from itertools import permutations\n",
    "def solution1(arr):\n",
    "    per=sorted(list(permutations(arr,len(arr))))\n",
    "    for i in per:\n",
    "        if arr<list(i):\n",
    "            return list(i)\n",
    "    else:\n",
    "        return list(per[0])\n",
    "\n",
    "arr=[1,1,5]\n",
    "x=solution1(arr)\n",
    "for i in x:\n",
    "    print(i,end=\" \")\n"
   ]
  },
  {
   "cell_type": "code",
   "execution_count": 32,
   "id": "84f431e5",
   "metadata": {},
   "outputs": [
    {
     "name": "stdout",
     "output_type": "stream",
     "text": [
      "[2, 1, 3]\n"
     ]
    }
   ],
   "source": [
    "#generating all permutations of strings using recursion and backtracking\n",
    "#then sorting the list of permutaions and then finding next permutation of given array\n",
    "#if it is last element then returning the 1st elment\n",
    "def solution2(n,arr,ans):\n",
    "    if n==len(arr):\n",
    "        x=arr.copy()\n",
    "        ans.append(x)\n",
    "        return\n",
    "    for i in range(n,len(arr)):\n",
    "        arr[i],arr[n]=arr[n],arr[i]     #swapping\n",
    "        solution2(n+1,arr,ans)\n",
    "        arr[i],arr[n]=arr[n],arr[i]     #backtracking\n",
    "    \n",
    "arr=[1,3,2]\n",
    "ans=[]\n",
    "solution2(0,arr,ans)\n",
    "ans=sorted(ans)\n",
    "for i in ans:\n",
    "    if arr<i:\n",
    "        print(i)\n",
    "        break\n",
    "else:\n",
    "    print(ans[0])"
   ]
  },
  {
   "cell_type": "code",
   "execution_count": 45,
   "id": "0e2a9766",
   "metadata": {},
   "outputs": [
    {
     "name": "stdout",
     "output_type": "stream",
     "text": [
      "2 1 3 "
     ]
    }
   ],
   "source": [
    "#the 3rd approach is a intutive method\n",
    "def solution3(arr):\n",
    "    if arr==[] or len(arr)==1:\n",
    "        return arr\n",
    "    i=len(arr)-2\n",
    "    while i>=0 and arr[i]>=arr[i+1]:\n",
    "        i-=1\n",
    "    if i>=0:\n",
    "        j=len(arr)-1\n",
    "        while arr[j]<=arr[i]:\n",
    "            j-=1\n",
    "        swap(arr,i,j)\n",
    "    reverse(arr,i+1,len(arr)-1)\n",
    "def swap(arr,x,y):\n",
    "    arr[x],arr[y]=arr[y],arr[x]\n",
    "def reverse(arr,x,y):\n",
    "    while(x<y):\n",
    "        swap(arr,x,y)\n",
    "        x+=1\n",
    "        y-=1\n",
    "\n",
    "        \n",
    "arr=[1,3,2]\n",
    "solution3(arr)\n",
    "for i in arr:\n",
    "    print(i,end=\" \")"
   ]
  },
  {
   "cell_type": "markdown",
   "id": "07b090b9",
   "metadata": {},
   "source": [
    "# Kadane’s Algorithm : Maximum Subarray Sum in an Array\n",
    "Problem Statement: Given an integer array arr, find the contiguous subarray (containing at least one number) which\n",
    "has the largest sum and return its sum and print the subarray.\n"
   ]
  },
  {
   "cell_type": "code",
   "execution_count": 53,
   "id": "9513a47f",
   "metadata": {},
   "outputs": [
    {
     "name": "stdout",
     "output_type": "stream",
     "text": [
      "maximum sum of a subarray is 6\n",
      "the subarray is  [4, -1, 2, 1]\n"
     ]
    }
   ],
   "source": [
    "#brute force approach - 3 loops\n",
    "def solution1(arr,ind):\n",
    "    n=len(arr)\n",
    "    mx=float('-inf')\n",
    "    for i in range(0,n):\n",
    "        for j in range(i,n):\n",
    "            sm=0\n",
    "            for k in range(i,j+1):\n",
    "                sm+=arr[k]\n",
    "            if sm>mx:\n",
    "                mx=sm\n",
    "                ind[0],ind[1]=i,j\n",
    "    return mx\n",
    "arr=[-2,1,-3,4,-1,2,1,-5,4]\n",
    "ind=[-1]*2\n",
    "sm=solution1(arr,ind)\n",
    "print(\"maximum sum of a subarray is {}\".format(sm))\n",
    "print(\"the subarray is \",arr[ind[0]:ind[1]+1])"
   ]
  },
  {
   "cell_type": "code",
   "execution_count": 54,
   "id": "a2b663a3",
   "metadata": {},
   "outputs": [
    {
     "name": "stdout",
     "output_type": "stream",
     "text": [
      "maximum sum of a subarray is 6\n",
      "the subarray is  [4, -1, 2, 1]\n"
     ]
    }
   ],
   "source": [
    "#brute force approch - 2 loops\n",
    "def solution2(arr,ind):\n",
    "    n=len(arr)\n",
    "    mx=float('-inf')\n",
    "    for i in range(0,n):\n",
    "        sm=0\n",
    "        for j in range(i,n):\n",
    "            sm+=arr[j]\n",
    "            if sm>mx:\n",
    "                mx=sm\n",
    "                ind[0],ind[1]=i,j\n",
    "    return mx\n",
    "arr=[-2,1,-3,4,-1,2,1,-5,4]\n",
    "ind=[-1]*2\n",
    "sm=solution2(arr,ind)\n",
    "print(\"maximum sum of a subarray is {}\".format(sm))\n",
    "print(\"the subarray is \",arr[ind[0]:ind[1]+1])"
   ]
  },
  {
   "cell_type": "code",
   "execution_count": 56,
   "id": "fce1a086",
   "metadata": {},
   "outputs": [
    {
     "name": "stdout",
     "output_type": "stream",
     "text": [
      "maximum sum of a subarray is 6\n",
      "the subarray is  [4, -1, 2, 1]\n"
     ]
    }
   ],
   "source": [
    "# kadane's algoritms approch - 2 loops\n",
    "def solution2(arr,ind):\n",
    "    n=len(arr)\n",
    "    mx=float('-inf')   #mx is msf max so far\n",
    "    sm,x=0,0           #sm is meh -max sum at ith index , x is start index\n",
    "    for i in range(0,n):\n",
    "        sm+=arr[i]\n",
    "        if sm>mx:\n",
    "            mx=sm\n",
    "            ind[0]=x\n",
    "            ind[1]=i\n",
    "        if sm<0:\n",
    "            sm=0\n",
    "            x=i+1   \n",
    "    return mx\n",
    "arr=[-2,1,-3,4,-1,2,1,-5,4]\n",
    "ind=[-1]*2\n",
    "sm=solution2(arr,ind)\n",
    "print(\"maximum sum of a subarray is {}\".format(sm))\n",
    "print(\"the subarray is \",arr[ind[0]:ind[1]+1])"
   ]
  },
  {
   "cell_type": "code",
   "execution_count": null,
   "id": "c614d897",
   "metadata": {},
   "outputs": [],
   "source": []
  }
 ],
 "metadata": {
  "kernelspec": {
   "display_name": "Python 3 (ipykernel)",
   "language": "python",
   "name": "python3"
  },
  "language_info": {
   "codemirror_mode": {
    "name": "ipython",
    "version": 3
   },
   "file_extension": ".py",
   "mimetype": "text/x-python",
   "name": "python",
   "nbconvert_exporter": "python",
   "pygments_lexer": "ipython3",
   "version": "3.9.12"
  }
 },
 "nbformat": 4,
 "nbformat_minor": 5
}
