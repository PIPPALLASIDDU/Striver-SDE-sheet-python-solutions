{
 "cells": [
  {
   "cell_type": "markdown",
   "id": "c376d60d",
   "metadata": {},
   "source": [
    "# Set Matrix Zero\n",
    "Problem Statement: Given a matrix if an element in the matrix is 0 then you will have to set its entire column and row to 0 and then return the matrix."
   ]
  },
  {
   "cell_type": "code",
   "execution_count": 4,
   "id": "439bfc06",
   "metadata": {},
   "outputs": [
    {
     "name": "stdout",
     "output_type": "stream",
     "text": [
      "0 0 0 0 \n",
      "0 4 5 0 \n",
      "0 3 1 0 \n"
     ]
    }
   ],
   "source": [
    "#solution1-bruteforce\n",
    "def solution1(matrix):\n",
    "    row=len(matrix)\n",
    "    col=len(matrix[0])\n",
    "    for i in range(row):\n",
    "        for j in range(col):\n",
    "            if matrix[i][j]==0:\n",
    "                ind=i-1\n",
    "                while ind>=0:                   #upper row elements\n",
    "                    if matrix[ind][j]!=0:\n",
    "                        matrix[ind][j]=-1\n",
    "                    ind-=1\n",
    "                ind=i+1\n",
    "                while ind<row:                   #lower row elements\n",
    "                    if matrix[ind][j]!=0:\n",
    "                        matrix[ind][j]=-1\n",
    "                    ind+=1\n",
    "                ind=j-1\n",
    "                while ind>=0:                   #upper columns elements\n",
    "                    if matrix[i][ind]!=0:\n",
    "                        matrix[i][ind]=-1\n",
    "                    ind-=1\n",
    "                ind=j+1\n",
    "                while ind<col:                    #lower row elements\n",
    "                    if matrix[i][ind]!=0:\n",
    "                        matrix[i][ind]=-1\n",
    "                    ind+=1\n",
    "    for i in range(row):\n",
    "        for j in range(col):\n",
    "            if matrix[i][j]==-1:\n",
    "                matrix[i][j]=0\n",
    "                \n",
    "arr=[[0, 1, 2, 0], [3, 4, 5, 2], [1, 3, 1, 5]]\n",
    "solution1(arr)\n",
    "for i in arr:\n",
    "    for j in i:\n",
    "        print(j,end=\" \")\n",
    "    print()"
   ]
  },
  {
   "cell_type": "code",
   "execution_count": 11,
   "id": "e323e983",
   "metadata": {},
   "outputs": [
    {
     "name": "stdout",
     "output_type": "stream",
     "text": [
      "0 0 0 0 \n",
      "0 4 5 0 \n",
      "0 3 1 0 \n"
     ]
    }
   ],
   "source": [
    "#solution2-better approach\n",
    "def solution2(matrix):\n",
    "    row=len(matrix)\n",
    "    col=len(matrix[0])\n",
    "    dummy_row=[-1]*row\n",
    "    dummy_col=[-1]*col\n",
    "    for i in range(row):\n",
    "        for j in range(col):\n",
    "            if matrix[i][j]==0:\n",
    "                dummy_row[i]=0\n",
    "                dummy_col[j]=0\n",
    "    for i in range(row):\n",
    "        for j in range(col):\n",
    "            if (dummy_row[i]==0 or dummy_col[j]==0):\n",
    "                matrix[i][j]=0\n",
    "            \n",
    "arr=[[0, 1, 2, 0], [3, 4, 5, 2], [1, 3, 1, 5]]\n",
    "solution2(arr)\n",
    "for i in arr:\n",
    "    for j in i:\n",
    "        print(j,end=\" \")\n",
    "    print()"
   ]
  },
  {
   "cell_type": "code",
   "execution_count": 15,
   "id": "cd0c8ab6",
   "metadata": {},
   "outputs": [
    {
     "name": "stdout",
     "output_type": "stream",
     "text": [
      "0 0 0 0 \n",
      "0 4 5 0 \n",
      "0 3 1 0 \n"
     ]
    }
   ],
   "source": [
    "#solution3-best approach\n",
    "def solution3(matrix):\n",
    "    row=len(matrix)\n",
    "    col=len(matrix[0])\n",
    "    col0=1\n",
    "    for i in range(row):\n",
    "        if matrix[i][0]==0:\n",
    "            col0=0\n",
    "        for j in range(1,col):\n",
    "            if matrix[i][j]==0:\n",
    "                matrix[i][0],matrix[0][j]=0,0\n",
    "    for i in range(row-1,-1,-1):\n",
    "        for j in range(col-1,0,-1):\n",
    "            if (matrix[i][0]==0 or matrix[0][j]==0):\n",
    "                matrix[i][j]=0\n",
    "        if col0==0:\n",
    "            matrix[i][0]=0\n",
    "            \n",
    "arr=[[0, 1, 2, 0], [3, 4, 5, 2], [1, 3, 1, 5]]\n",
    "solution3(arr)\n",
    "for i in arr:\n",
    "    for j in i:\n",
    "        print(j,end=\" \")\n",
    "    print()"
   ]
  },
  {
   "cell_type": "markdown",
   "id": "cc6e8a34",
   "metadata": {},
   "source": [
    "# In Pascal’s triangle, \n",
    "each number is the sum of the two numbers directly above it as shown in the figure below:"
   ]
  },
  {
   "cell_type": "code",
   "execution_count": 19,
   "id": "33eefe97",
   "metadata": {},
   "outputs": [
    {
     "name": "stdout",
     "output_type": "stream",
     "text": [
      "5\n",
      "    1 \n",
      "   1 1 \n",
      "  1 2 1 \n",
      " 1 3 3 1 \n",
      "1 4 6 4 1 \n"
     ]
    }
   ],
   "source": [
    "#solution - adding previous row elments\n",
    "def pascal_triangle(n):\n",
    "    mat=[[0]*i for i in range(1,n+1)]\n",
    "    for i in range(n):\n",
    "        mat[i][0],mat[i][i]=1,1\n",
    "        for j in range(1,i):\n",
    "            mat[i][j]=mat[i-1][j]+mat[i-1][j-1]\n",
    "\n",
    "    \n",
    "n=int(input())\n",
    "pascal_triangle(n)\n",
    "for i in range(n):\n",
    "    print(\" \"*(n-i-1),end=\"\")\n",
    "    for j in mat[i]:\n",
    "        print(j,end=\" \")\n",
    "    print()"
   ]
  },
  {
   "cell_type": "markdown",
   "id": "e5e41170",
   "metadata": {},
   "source": [
    "# next_permutation : find next lexicographically greater permutation\n",
    "Given an array Arr[] of integers, rearrange the numbers of the given array into the lexicographically next greater permutation of numbers.\n",
    "\n",
    "If such an arrangement is not possible, it must rearrange it as the lowest possible order (i.e., sorted in ascending order)."
   ]
  },
  {
   "cell_type": "code",
   "execution_count": null,
   "id": "c9e2d9cf",
   "metadata": {},
   "outputs": [],
   "source": [
    "#brute force solution - find all the permuatations(in order)\n",
    "#in python we use the itertools library for permuattion function\n",
    "\n"
   ]
  }
 ],
 "metadata": {
  "kernelspec": {
   "display_name": "Python 3 (ipykernel)",
   "language": "python",
   "name": "python3"
  },
  "language_info": {
   "codemirror_mode": {
    "name": "ipython",
    "version": 3
   },
   "file_extension": ".py",
   "mimetype": "text/x-python",
   "name": "python",
   "nbconvert_exporter": "python",
   "pygments_lexer": "ipython3",
   "version": "3.9.12"
  }
 },
 "nbformat": 4,
 "nbformat_minor": 5
}
