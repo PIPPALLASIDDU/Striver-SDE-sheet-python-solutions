{
 "cells": [
  {
   "cell_type": "markdown",
   "id": "f7d4b279",
   "metadata": {},
   "source": [
    "# Two Sum : Check if a pair with given sum exists in Array\n",
    "Problem Statement: Given an array of integers nums[] and an integer target, return indices of the two numbers such that their sum is equal to the target."
   ]
  },
  {
   "cell_type": "code",
   "execution_count": 1,
   "id": "ea02c9bf",
   "metadata": {},
   "outputs": [
    {
     "name": "stdout",
     "output_type": "stream",
     "text": [
      "[1, 2]\n"
     ]
    }
   ],
   "source": [
    "#brute force:\n",
    "def pairsum(arr,target,n):\n",
    "    for i in range(n-1):\n",
    "        for j in range(i+1,n):\n",
    "            if arr[i]+arr[j]==target:\n",
    "                return [i,j]\n",
    "arr=[3,2,4]\n",
    "n=len(arr)\n",
    "target=6\n",
    "print(pairsum(arr,target,n))"
   ]
  },
  {
   "cell_type": "code",
   "execution_count": 2,
   "id": "ddde2a2d",
   "metadata": {},
   "outputs": [
    {
     "name": "stdout",
     "output_type": "stream",
     "text": [
      "[1, 2]\n"
     ]
    }
   ],
   "source": [
    "#2-pointer approach \n",
    "def pairsum(arr,target,n):\n",
    "    x=sorted(arr)\n",
    "    i,j=0,n-1\n",
    "    while i<j:\n",
    "        if x[i]+x[j]==target:\n",
    "            ind=[x[i],x[j]]\n",
    "            break\n",
    "        elif x[i]+x[j]>target:\n",
    "            j-=1\n",
    "        else:\n",
    "            i+=1\n",
    "    ans=[]\n",
    "    for i in range(n):\n",
    "        if arr[i]==ind[0]:\n",
    "            ans.append(i)\n",
    "        elif arr[i]==ind[1]:\n",
    "            ans.append(i)\n",
    "        elif len(ans)=2:\n",
    "            return ans\n",
    "arr=[3,2,4]\n",
    "n=len(arr)\n",
    "target=6\n",
    "print(pairsum(arr,target,n))"
   ]
  },
  {
   "cell_type": "code",
   "execution_count": 4,
   "id": "89e3b08b",
   "metadata": {},
   "outputs": [
    {
     "name": "stdout",
     "output_type": "stream",
     "text": [
      "[1, 2]\n"
     ]
    }
   ],
   "source": [
    "#using Hashing (Most efficient)\n",
    "def pairsum(arr,target,n):\n",
    "    d={}\n",
    "    for i in range(n):\n",
    "        x=target-arr[i]\n",
    "        if x in d:\n",
    "            return [d[x],i]\n",
    "        else:\n",
    "            d[arr[i]]=i\n",
    "    \n",
    "arr=[3,2,4]\n",
    "n=len(arr)\n",
    "target=6\n",
    "print(pairsum(arr,target,n))"
   ]
  },
  {
   "cell_type": "markdown",
   "id": "16886332",
   "metadata": {},
   "source": [
    "# 4 Sum | Find Quads that add up to a target value\n",
    "Problem Statement: Given an array of N integers, your task is to find unique quads that add up to give a target value. In short, you need to return an array of all the unique quadruplets [arr[a], arr[b], arr[c], arr[d]] such that their sum is equal to a given target.\n"
   ]
  },
  {
   "cell_type": "code",
   "execution_count": 7,
   "id": "25985e97",
   "metadata": {},
   "outputs": [
    {
     "name": "stdout",
     "output_type": "stream",
     "text": [
      "[[4, 3, 1, 1], [4, 2, 1, 2], [4, 2, 2, 1], [3, 3, 2, 1], [3, 3, 1, 2], [3, 4, 1, 1]]\n"
     ]
    }
   ],
   "source": [
    "#brute force\n",
    "def findquads(arr,target):\n",
    "    ans=[]\n",
    "    for i in range(len(arr)-3):\n",
    "        for j in range(i+1,len(arr)-2):\n",
    "            for k in range(j+1,len(arr)-1):\n",
    "                for l in range(k+1,len(arr)):\n",
    "                    if arr[i]+arr[j]+arr[k]+arr[l]==target:\n",
    "                        if sorted([arr[i],arr[j],arr[k],arr[l]]) not in ans:\n",
    "                            ans.append(sorted([arr[i],arr[j],arr[k],arr[l]]))\n",
    "    return ans\n",
    "\n",
    "\n",
    "arr=[4,3,3,4,4,2,1,2,1,1]\n",
    "target=9\n",
    "print(findquads(arr,target))"
   ]
  },
  {
   "cell_type": "code",
   "execution_count": 20,
   "id": "216261de",
   "metadata": {},
   "outputs": [
    {
     "name": "stdout",
     "output_type": "stream",
     "text": [
      "[1, 1, 3, 4]\n",
      "[1, 1, 3, 4]\n",
      "[1, 1, 3, 4]\n",
      "[1, 1, 3, 4]\n",
      "[1, 2, 2, 4]\n",
      "[1, 1, 3, 4]\n",
      "[1, 1, 3, 4]\n",
      "[1, 2, 2, 4]\n",
      "[1, 2, 2, 4]\n",
      "{(1, 2, 2, 4), (1, 1, 3, 4)}\n"
     ]
    }
   ],
   "source": [
    "#3-pointer + binary search approach\n",
    "def findquads(nums,target):\n",
    "    nums.sort()\n",
    "    ans=set()\n",
    "    n=len(nums)\n",
    "    for i in range(n-3):\n",
    "        for j in range(i+1,n-2):\n",
    "            for k in range(j+1,n-1):\n",
    "                x=target-(nums[i]+nums[j]+nums[k])\n",
    "                if binarysearch(arr,k+1,n-1,x)!=-1:\n",
    "                    ans.add(tuple(sorted([nums[i],nums[j],nums[k],x])))\n",
    "    return ans\n",
    "            \n",
    "def binarysearch(arr,l,r,k):\n",
    "    \n",
    "    if l<r:\n",
    "        mid=(l+r)//2\n",
    "        if arr[mid]<k:\n",
    "            l=mid+1\n",
    "            return binarysearch(arr,l,r,k)\n",
    "        elif arr[mid]>k:\n",
    "            r=mid-1\n",
    "            return binarysearch(arr,l,r,k)\n",
    "        if k==arr[mid]:\n",
    "            return mid\n",
    "    else:\n",
    "        return -1\n",
    "arr=[4,3,3,4,4,2,1,2,1,1]\n",
    "target=9\n",
    "print(findquads(arr,target))"
   ]
  },
  {
   "cell_type": "code",
   "execution_count": null,
   "id": "d979614f",
   "metadata": {},
   "outputs": [],
   "source": [
    "#aptimized approach - 2 pointer + 2 pointer technique on sorted array\n",
    "def findquads(nums,target):\n",
    "    ans=[]\n",
    "    if len(nums)<4:\n",
    "        return ans\n",
    "    if len(nums)==4:\n",
    "        ans.append(nums)\n",
    "        return ans\n",
    "    nums.sort()\n",
    "    ans=[]\n",
    "    n=len(nums)\n",
    "    for i in range(n):\n",
    "        for j in range(i+1,n):\n",
    "            x=target-(nums[i]+nums[j])\n",
    "            f,b=j+1,n-1\n",
    "            while f<b:\n",
    "                if nums[f]+nums[b]==x:\n",
    "                    quad=[nums[i],nums[j],nums[f],nums[b]]\n",
    "                    ans.append(quad)\n",
    "                    while f<b and nums[f]==quad[2]:\n",
    "                        f+=1\n",
    "                    while f<b and nums[b]==quad[3]:\n",
    "                        b-=1\n",
    "                elif nums[f]+nums[b]>x:\n",
    "                    b-=1\n",
    "                else:\n",
    "                    f+=1\n",
    "            while j+1<n and nums[j]==nums[j+1]:\n",
    "                j+=1\n",
    "        while i+1<n and nums[i]==nums[i+1]:\n",
    "            i+=1\n",
    "    return ans\n",
    "\n",
    "arr=[4,3,3,4,4,2,1,2,1,1]\n",
    "target=9\n",
    "print(findquads(arr,target))              "
   ]
  },
  {
   "cell_type": "code",
   "execution_count": null,
   "id": "d0e6af31",
   "metadata": {},
   "outputs": [],
   "source": []
  }
 ],
 "metadata": {
  "kernelspec": {
   "display_name": "Python 3 (ipykernel)",
   "language": "python",
   "name": "python3"
  },
  "language_info": {
   "codemirror_mode": {
    "name": "ipython",
    "version": 3
   },
   "file_extension": ".py",
   "mimetype": "text/x-python",
   "name": "python",
   "nbconvert_exporter": "python",
   "pygments_lexer": "ipython3",
   "version": "3.9.12"
  }
 },
 "nbformat": 4,
 "nbformat_minor": 5
}
