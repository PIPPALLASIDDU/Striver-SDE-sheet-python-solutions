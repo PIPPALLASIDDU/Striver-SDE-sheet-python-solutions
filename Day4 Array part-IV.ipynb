{
 "cells": [
  {
   "cell_type": "markdown",
   "id": "f7d4b279",
   "metadata": {},
   "source": [
    "# Two Sum : Check if a pair with given sum exists in Array\n",
    "Problem Statement: Given an array of integers nums[] and an integer target, return indices of the two numbers such that their sum is equal to the target."
   ]
  },
  {
   "cell_type": "code",
   "execution_count": 3,
   "id": "ddde2a2d",
   "metadata": {},
   "outputs": [
    {
     "name": "stdout",
     "output_type": "stream",
     "text": [
      "None\n"
     ]
    }
   ],
   "source": [
    "def pairsum(arr,target,n):\n",
    "    i,j=0,n-1\n",
    "    while i<j:\n",
    "        if arr[i]+arr[j]==target:\n",
    "            return [i,j]\n",
    "        elif arr[i]+arr[j]>target:\n",
    "            j-=1\n",
    "        else:\n",
    "            i+=1\n",
    "\n",
    "arr=[3,2,4]\n",
    "n=len(arr)\n",
    "target=6\n",
    "print(pairsum(arr,target,n))"
   ]
  },
  {
   "cell_type": "code",
   "execution_count": null,
   "id": "ea02c9bf",
   "metadata": {},
   "outputs": [],
   "source": []
  }
 ],
 "metadata": {
  "kernelspec": {
   "display_name": "Python 3 (ipykernel)",
   "language": "python",
   "name": "python3"
  },
  "language_info": {
   "codemirror_mode": {
    "name": "ipython",
    "version": 3
   },
   "file_extension": ".py",
   "mimetype": "text/x-python",
   "name": "python",
   "nbconvert_exporter": "python",
   "pygments_lexer": "ipython3",
   "version": "3.9.12"
  }
 },
 "nbformat": 4,
 "nbformat_minor": 5
}
